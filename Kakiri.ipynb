{
 "cells": [
  {
   "cell_type": "code",
   "execution_count": 2,
   "id": "24ee1810",
   "metadata": {},
   "outputs": [
    {
     "data": {
      "text/html": [
       "        <script type=\"text/javascript\">\n",
       "        window.PlotlyConfig = {MathJaxConfig: 'local'};\n",
       "        if (window.MathJax) {MathJax.Hub.Config({SVG: {font: \"STIX-Web\"}});}\n",
       "        if (typeof require !== 'undefined') {\n",
       "        require.undef(\"plotly\");\n",
       "        requirejs.config({\n",
       "            paths: {\n",
       "                'plotly': ['https://cdn.plot.ly/plotly-2.2.0.min']\n",
       "            }\n",
       "        });\n",
       "        require(['plotly'], function(Plotly) {\n",
       "            window._Plotly = Plotly;\n",
       "        });\n",
       "        }\n",
       "        </script>\n",
       "        "
      ]
     },
     "metadata": {},
     "output_type": "display_data"
    }
   ],
   "source": [
    "#Cufflinks wrapper on plotly\n",
    "import cufflinks\n",
    "\n",
    "from scipy import stats\n",
    "import statsmodels.formula.api as smf\n",
    "import numpy\n",
    "import pandas\n",
    "import matplotlib.pyplot as plt\n",
    "import seaborn\n",
    "import statsmodels.api as sm\n",
    "\n",
    "#Data science imports\n",
    "import pandas as pd\n",
    "import numpy as np\n",
    "\n",
    "#Options for pandas\n",
    "pd.options.display.max_columns = 30\n",
    "\n",
    "#Offline plotting\n",
    "from plotly.offline import iplot\n",
    "cufflinks.go_offline()\n",
    "\n",
    "# Set global theme\n",
    "cufflinks.set_config_file(world_readable=True, theme='pearl')"
   ]
  },
  {
   "cell_type": "code",
   "execution_count": 3,
   "id": "a7aa620d",
   "metadata": {},
   "outputs": [
    {
     "data": {
      "text/html": [
       "<div>\n",
       "<style scoped>\n",
       "    .dataframe tbody tr th:only-of-type {\n",
       "        vertical-align: middle;\n",
       "    }\n",
       "\n",
       "    .dataframe tbody tr th {\n",
       "        vertical-align: top;\n",
       "    }\n",
       "\n",
       "    .dataframe thead th {\n",
       "        text-align: right;\n",
       "    }\n",
       "</style>\n",
       "<table border=\"1\" class=\"dataframe\">\n",
       "  <thead>\n",
       "    <tr style=\"text-align: right;\">\n",
       "      <th></th>\n",
       "      <th>Tenure</th>\n",
       "      <th>Block</th>\n",
       "      <th>Village</th>\n",
       "      <th>Latitude</th>\n",
       "      <th>Longitude</th>\n",
       "      <th>County</th>\n",
       "      <th>Use</th>\n",
       "      <th>Acreage</th>\n",
       "      <th>Value</th>\n",
       "      <th>Date</th>\n",
       "    </tr>\n",
       "  </thead>\n",
       "  <tbody>\n",
       "    <tr>\n",
       "      <th>0</th>\n",
       "      <td>Private Mailo</td>\n",
       "      <td>45</td>\n",
       "      <td>Sekomwanga - Kakiri</td>\n",
       "      <td>0.424860</td>\n",
       "      <td>32.386504</td>\n",
       "      <td>Busiro</td>\n",
       "      <td>Agric</td>\n",
       "      <td>1.000</td>\n",
       "      <td>10000000</td>\n",
       "      <td>2016-06-27 00:00:00</td>\n",
       "    </tr>\n",
       "    <tr>\n",
       "      <th>1</th>\n",
       "      <td>Private Mailo</td>\n",
       "      <td>127</td>\n",
       "      <td>Kakiri</td>\n",
       "      <td>0.428955</td>\n",
       "      <td>32.385940</td>\n",
       "      <td>Busiro</td>\n",
       "      <td>Agric</td>\n",
       "      <td>1.000</td>\n",
       "      <td>20000000</td>\n",
       "      <td>20/07/2017</td>\n",
       "    </tr>\n",
       "    <tr>\n",
       "      <th>2</th>\n",
       "      <td>Private Mailo</td>\n",
       "      <td>145</td>\n",
       "      <td>Sekomwanga - Kakiri</td>\n",
       "      <td>0.423859</td>\n",
       "      <td>32.384393</td>\n",
       "      <td>Busiro</td>\n",
       "      <td>Res</td>\n",
       "      <td>0.101</td>\n",
       "      <td>4000000</td>\n",
       "      <td>2016-06-28 00:00:00</td>\n",
       "    </tr>\n",
       "    <tr>\n",
       "      <th>3</th>\n",
       "      <td>Private Mailo</td>\n",
       "      <td>204</td>\n",
       "      <td>Kakiri</td>\n",
       "      <td>0.429590</td>\n",
       "      <td>32.385404</td>\n",
       "      <td>Busiro</td>\n",
       "      <td>Res</td>\n",
       "      <td>0.091</td>\n",
       "      <td>15000000</td>\n",
       "      <td>2018-08-14 00:00:00</td>\n",
       "    </tr>\n",
       "    <tr>\n",
       "      <th>4</th>\n",
       "      <td>Private Mailo</td>\n",
       "      <td>204</td>\n",
       "      <td>Kakiri BTC Systems</td>\n",
       "      <td>0.422597</td>\n",
       "      <td>32.385754</td>\n",
       "      <td>Busiro</td>\n",
       "      <td>Res</td>\n",
       "      <td>0.116</td>\n",
       "      <td>10000000</td>\n",
       "      <td>2018-06-21 00:00:00</td>\n",
       "    </tr>\n",
       "  </tbody>\n",
       "</table>\n",
       "</div>"
      ],
      "text/plain": [
       "          Tenure  Block              Village  Latitude  Longitude  County  \\\n",
       "0  Private Mailo     45  Sekomwanga - Kakiri  0.424860  32.386504  Busiro   \n",
       "1  Private Mailo    127               Kakiri  0.428955  32.385940  Busiro   \n",
       "2  Private Mailo    145  Sekomwanga - Kakiri  0.423859  32.384393  Busiro   \n",
       "3  Private Mailo    204               Kakiri  0.429590  32.385404  Busiro   \n",
       "4  Private Mailo    204   Kakiri BTC Systems  0.422597  32.385754  Busiro   \n",
       "\n",
       "     Use  Acreage     Value                 Date  \n",
       "0  Agric    1.000  10000000  2016-06-27 00:00:00  \n",
       "1  Agric    1.000  20000000           20/07/2017  \n",
       "2    Res    0.101   4000000  2016-06-28 00:00:00  \n",
       "3    Res    0.091  15000000  2018-08-14 00:00:00  \n",
       "4    Res    0.116  10000000  2018-06-21 00:00:00  "
      ]
     },
     "execution_count": 3,
     "metadata": {},
     "output_type": "execute_result"
    }
   ],
   "source": [
    "df=pd.read_excel('Kakiri.xlsx')\n",
    "df.head()"
   ]
  },
  {
   "cell_type": "code",
   "execution_count": 3,
   "id": "30b4c467",
   "metadata": {},
   "outputs": [
    {
     "data": {
      "application/vnd.plotly.v1+json": {
       "config": {
        "linkText": "Export to plot.ly",
        "plotlyServerURL": "https://plot.ly",
        "showLink": true
       },
       "data": [
        {
         "histfunc": "count",
         "histnorm": "percent",
         "marker": {
          "color": "rgba(255, 153, 51, 1.0)",
          "line": {
           "color": "#000000",
           "width": 1.3
          }
         },
         "name": "Acreage",
         "nbinsx": 30,
         "opacity": 0.8,
         "orientation": "v",
         "type": "histogram",
         "x": [
          1,
          1,
          0.101,
          0.091,
          0.116,
          0.116,
          0.21,
          0.529,
          0.282,
          0.111,
          0.531,
          0.247,
          0.23,
          0.064,
          0.469,
          0.302,
          1.999,
          0.114,
          0.114,
          1,
          1,
          0.082,
          0.114,
          0.331,
          0.153,
          0.116,
          0.114,
          1,
          0.442,
          0.082,
          0.109,
          0.259,
          1,
          1,
          0.077,
          1,
          0.114,
          0.126,
          0.148,
          0.111,
          0.143,
          0.116,
          1,
          0.489,
          0.099,
          14.999,
          0.101,
          1,
          32.175,
          15.728,
          2.088,
          1,
          1,
          0.109,
          0.116,
          1,
          1,
          0.114,
          0.111,
          1.186,
          0.126,
          1.557,
          0.652,
          1,
          0.064,
          2.582,
          1.181,
          1,
          1,
          1,
          1,
          0.116,
          2.545,
          1,
          1,
          0.082,
          19.521,
          3.121,
          1.957,
          0.116,
          4.003,
          3.227,
          1.935,
          2.11,
          1,
          1,
          1,
          0.887,
          0.148,
          1.001,
          0.998,
          1,
          1.136,
          1,
          1,
          0.759,
          1.001,
          13.773,
          0.225,
          0.116,
          1,
          0.544,
          0.954,
          4.03,
          5.515,
          24.653,
          1,
          0.195,
          0.116,
          1,
          0.049,
          4.08,
          3,
          1,
          1,
          9.901,
          0.277,
          0.62,
          0.469,
          1,
          0.01,
          4.003,
          1.001,
          1,
          0.116,
          0.404,
          0.692,
          0.128,
          0.128,
          0.514,
          1.668,
          1,
          1,
          1.001,
          14.579,
          1,
          1.001,
          0.044,
          0.114,
          0.222,
          1,
          1,
          0.05,
          1,
          1,
          1,
          0.109,
          0.114,
          0.049,
          1,
          1,
          0.114,
          0.272,
          0.046,
          0.255,
          0.121,
          1,
          1,
          0.128,
          0.116,
          0.153,
          0.114,
          0.114,
          1,
          1,
          0.124,
          1,
          0.119,
          1,
          1
         ]
        }
       ],
       "layout": {
        "barmode": "overlay",
        "legend": {
         "bgcolor": "#F5F6F9",
         "font": {
          "color": "#4D5663"
         }
        },
        "paper_bgcolor": "#F5F6F9",
        "plot_bgcolor": "#F5F6F9",
        "template": {
         "data": {
          "bar": [
           {
            "error_x": {
             "color": "#2a3f5f"
            },
            "error_y": {
             "color": "#2a3f5f"
            },
            "marker": {
             "line": {
              "color": "#E5ECF6",
              "width": 0.5
             },
             "pattern": {
              "fillmode": "overlay",
              "size": 10,
              "solidity": 0.2
             }
            },
            "type": "bar"
           }
          ],
          "barpolar": [
           {
            "marker": {
             "line": {
              "color": "#E5ECF6",
              "width": 0.5
             },
             "pattern": {
              "fillmode": "overlay",
              "size": 10,
              "solidity": 0.2
             }
            },
            "type": "barpolar"
           }
          ],
          "carpet": [
           {
            "aaxis": {
             "endlinecolor": "#2a3f5f",
             "gridcolor": "white",
             "linecolor": "white",
             "minorgridcolor": "white",
             "startlinecolor": "#2a3f5f"
            },
            "baxis": {
             "endlinecolor": "#2a3f5f",
             "gridcolor": "white",
             "linecolor": "white",
             "minorgridcolor": "white",
             "startlinecolor": "#2a3f5f"
            },
            "type": "carpet"
           }
          ],
          "choropleth": [
           {
            "colorbar": {
             "outlinewidth": 0,
             "ticks": ""
            },
            "type": "choropleth"
           }
          ],
          "contour": [
           {
            "colorbar": {
             "outlinewidth": 0,
             "ticks": ""
            },
            "colorscale": [
             [
              0,
              "#0d0887"
             ],
             [
              0.1111111111111111,
              "#46039f"
             ],
             [
              0.2222222222222222,
              "#7201a8"
             ],
             [
              0.3333333333333333,
              "#9c179e"
             ],
             [
              0.4444444444444444,
              "#bd3786"
             ],
             [
              0.5555555555555556,
              "#d8576b"
             ],
             [
              0.6666666666666666,
              "#ed7953"
             ],
             [
              0.7777777777777778,
              "#fb9f3a"
             ],
             [
              0.8888888888888888,
              "#fdca26"
             ],
             [
              1,
              "#f0f921"
             ]
            ],
            "type": "contour"
           }
          ],
          "contourcarpet": [
           {
            "colorbar": {
             "outlinewidth": 0,
             "ticks": ""
            },
            "type": "contourcarpet"
           }
          ],
          "heatmap": [
           {
            "colorbar": {
             "outlinewidth": 0,
             "ticks": ""
            },
            "colorscale": [
             [
              0,
              "#0d0887"
             ],
             [
              0.1111111111111111,
              "#46039f"
             ],
             [
              0.2222222222222222,
              "#7201a8"
             ],
             [
              0.3333333333333333,
              "#9c179e"
             ],
             [
              0.4444444444444444,
              "#bd3786"
             ],
             [
              0.5555555555555556,
              "#d8576b"
             ],
             [
              0.6666666666666666,
              "#ed7953"
             ],
             [
              0.7777777777777778,
              "#fb9f3a"
             ],
             [
              0.8888888888888888,
              "#fdca26"
             ],
             [
              1,
              "#f0f921"
             ]
            ],
            "type": "heatmap"
           }
          ],
          "heatmapgl": [
           {
            "colorbar": {
             "outlinewidth": 0,
             "ticks": ""
            },
            "colorscale": [
             [
              0,
              "#0d0887"
             ],
             [
              0.1111111111111111,
              "#46039f"
             ],
             [
              0.2222222222222222,
              "#7201a8"
             ],
             [
              0.3333333333333333,
              "#9c179e"
             ],
             [
              0.4444444444444444,
              "#bd3786"
             ],
             [
              0.5555555555555556,
              "#d8576b"
             ],
             [
              0.6666666666666666,
              "#ed7953"
             ],
             [
              0.7777777777777778,
              "#fb9f3a"
             ],
             [
              0.8888888888888888,
              "#fdca26"
             ],
             [
              1,
              "#f0f921"
             ]
            ],
            "type": "heatmapgl"
           }
          ],
          "histogram": [
           {
            "marker": {
             "pattern": {
              "fillmode": "overlay",
              "size": 10,
              "solidity": 0.2
             }
            },
            "type": "histogram"
           }
          ],
          "histogram2d": [
           {
            "colorbar": {
             "outlinewidth": 0,
             "ticks": ""
            },
            "colorscale": [
             [
              0,
              "#0d0887"
             ],
             [
              0.1111111111111111,
              "#46039f"
             ],
             [
              0.2222222222222222,
              "#7201a8"
             ],
             [
              0.3333333333333333,
              "#9c179e"
             ],
             [
              0.4444444444444444,
              "#bd3786"
             ],
             [
              0.5555555555555556,
              "#d8576b"
             ],
             [
              0.6666666666666666,
              "#ed7953"
             ],
             [
              0.7777777777777778,
              "#fb9f3a"
             ],
             [
              0.8888888888888888,
              "#fdca26"
             ],
             [
              1,
              "#f0f921"
             ]
            ],
            "type": "histogram2d"
           }
          ],
          "histogram2dcontour": [
           {
            "colorbar": {
             "outlinewidth": 0,
             "ticks": ""
            },
            "colorscale": [
             [
              0,
              "#0d0887"
             ],
             [
              0.1111111111111111,
              "#46039f"
             ],
             [
              0.2222222222222222,
              "#7201a8"
             ],
             [
              0.3333333333333333,
              "#9c179e"
             ],
             [
              0.4444444444444444,
              "#bd3786"
             ],
             [
              0.5555555555555556,
              "#d8576b"
             ],
             [
              0.6666666666666666,
              "#ed7953"
             ],
             [
              0.7777777777777778,
              "#fb9f3a"
             ],
             [
              0.8888888888888888,
              "#fdca26"
             ],
             [
              1,
              "#f0f921"
             ]
            ],
            "type": "histogram2dcontour"
           }
          ],
          "mesh3d": [
           {
            "colorbar": {
             "outlinewidth": 0,
             "ticks": ""
            },
            "type": "mesh3d"
           }
          ],
          "parcoords": [
           {
            "line": {
             "colorbar": {
              "outlinewidth": 0,
              "ticks": ""
             }
            },
            "type": "parcoords"
           }
          ],
          "pie": [
           {
            "automargin": true,
            "type": "pie"
           }
          ],
          "scatter": [
           {
            "marker": {
             "colorbar": {
              "outlinewidth": 0,
              "ticks": ""
             }
            },
            "type": "scatter"
           }
          ],
          "scatter3d": [
           {
            "line": {
             "colorbar": {
              "outlinewidth": 0,
              "ticks": ""
             }
            },
            "marker": {
             "colorbar": {
              "outlinewidth": 0,
              "ticks": ""
             }
            },
            "type": "scatter3d"
           }
          ],
          "scattercarpet": [
           {
            "marker": {
             "colorbar": {
              "outlinewidth": 0,
              "ticks": ""
             }
            },
            "type": "scattercarpet"
           }
          ],
          "scattergeo": [
           {
            "marker": {
             "colorbar": {
              "outlinewidth": 0,
              "ticks": ""
             }
            },
            "type": "scattergeo"
           }
          ],
          "scattergl": [
           {
            "marker": {
             "colorbar": {
              "outlinewidth": 0,
              "ticks": ""
             }
            },
            "type": "scattergl"
           }
          ],
          "scattermapbox": [
           {
            "marker": {
             "colorbar": {
              "outlinewidth": 0,
              "ticks": ""
             }
            },
            "type": "scattermapbox"
           }
          ],
          "scatterpolar": [
           {
            "marker": {
             "colorbar": {
              "outlinewidth": 0,
              "ticks": ""
             }
            },
            "type": "scatterpolar"
           }
          ],
          "scatterpolargl": [
           {
            "marker": {
             "colorbar": {
              "outlinewidth": 0,
              "ticks": ""
             }
            },
            "type": "scatterpolargl"
           }
          ],
          "scatterternary": [
           {
            "marker": {
             "colorbar": {
              "outlinewidth": 0,
              "ticks": ""
             }
            },
            "type": "scatterternary"
           }
          ],
          "surface": [
           {
            "colorbar": {
             "outlinewidth": 0,
             "ticks": ""
            },
            "colorscale": [
             [
              0,
              "#0d0887"
             ],
             [
              0.1111111111111111,
              "#46039f"
             ],
             [
              0.2222222222222222,
              "#7201a8"
             ],
             [
              0.3333333333333333,
              "#9c179e"
             ],
             [
              0.4444444444444444,
              "#bd3786"
             ],
             [
              0.5555555555555556,
              "#d8576b"
             ],
             [
              0.6666666666666666,
              "#ed7953"
             ],
             [
              0.7777777777777778,
              "#fb9f3a"
             ],
             [
              0.8888888888888888,
              "#fdca26"
             ],
             [
              1,
              "#f0f921"
             ]
            ],
            "type": "surface"
           }
          ],
          "table": [
           {
            "cells": {
             "fill": {
              "color": "#EBF0F8"
             },
             "line": {
              "color": "white"
             }
            },
            "header": {
             "fill": {
              "color": "#C8D4E3"
             },
             "line": {
              "color": "white"
             }
            },
            "type": "table"
           }
          ]
         },
         "layout": {
          "annotationdefaults": {
           "arrowcolor": "#2a3f5f",
           "arrowhead": 0,
           "arrowwidth": 1
          },
          "autotypenumbers": "strict",
          "coloraxis": {
           "colorbar": {
            "outlinewidth": 0,
            "ticks": ""
           }
          },
          "colorscale": {
           "diverging": [
            [
             0,
             "#8e0152"
            ],
            [
             0.1,
             "#c51b7d"
            ],
            [
             0.2,
             "#de77ae"
            ],
            [
             0.3,
             "#f1b6da"
            ],
            [
             0.4,
             "#fde0ef"
            ],
            [
             0.5,
             "#f7f7f7"
            ],
            [
             0.6,
             "#e6f5d0"
            ],
            [
             0.7,
             "#b8e186"
            ],
            [
             0.8,
             "#7fbc41"
            ],
            [
             0.9,
             "#4d9221"
            ],
            [
             1,
             "#276419"
            ]
           ],
           "sequential": [
            [
             0,
             "#0d0887"
            ],
            [
             0.1111111111111111,
             "#46039f"
            ],
            [
             0.2222222222222222,
             "#7201a8"
            ],
            [
             0.3333333333333333,
             "#9c179e"
            ],
            [
             0.4444444444444444,
             "#bd3786"
            ],
            [
             0.5555555555555556,
             "#d8576b"
            ],
            [
             0.6666666666666666,
             "#ed7953"
            ],
            [
             0.7777777777777778,
             "#fb9f3a"
            ],
            [
             0.8888888888888888,
             "#fdca26"
            ],
            [
             1,
             "#f0f921"
            ]
           ],
           "sequentialminus": [
            [
             0,
             "#0d0887"
            ],
            [
             0.1111111111111111,
             "#46039f"
            ],
            [
             0.2222222222222222,
             "#7201a8"
            ],
            [
             0.3333333333333333,
             "#9c179e"
            ],
            [
             0.4444444444444444,
             "#bd3786"
            ],
            [
             0.5555555555555556,
             "#d8576b"
            ],
            [
             0.6666666666666666,
             "#ed7953"
            ],
            [
             0.7777777777777778,
             "#fb9f3a"
            ],
            [
             0.8888888888888888,
             "#fdca26"
            ],
            [
             1,
             "#f0f921"
            ]
           ]
          },
          "colorway": [
           "#636efa",
           "#EF553B",
           "#00cc96",
           "#ab63fa",
           "#FFA15A",
           "#19d3f3",
           "#FF6692",
           "#B6E880",
           "#FF97FF",
           "#FECB52"
          ],
          "font": {
           "color": "#2a3f5f"
          },
          "geo": {
           "bgcolor": "white",
           "lakecolor": "white",
           "landcolor": "#E5ECF6",
           "showlakes": true,
           "showland": true,
           "subunitcolor": "white"
          },
          "hoverlabel": {
           "align": "left"
          },
          "hovermode": "closest",
          "mapbox": {
           "style": "light"
          },
          "paper_bgcolor": "white",
          "plot_bgcolor": "#E5ECF6",
          "polar": {
           "angularaxis": {
            "gridcolor": "white",
            "linecolor": "white",
            "ticks": ""
           },
           "bgcolor": "#E5ECF6",
           "radialaxis": {
            "gridcolor": "white",
            "linecolor": "white",
            "ticks": ""
           }
          },
          "scene": {
           "xaxis": {
            "backgroundcolor": "#E5ECF6",
            "gridcolor": "white",
            "gridwidth": 2,
            "linecolor": "white",
            "showbackground": true,
            "ticks": "",
            "zerolinecolor": "white"
           },
           "yaxis": {
            "backgroundcolor": "#E5ECF6",
            "gridcolor": "white",
            "gridwidth": 2,
            "linecolor": "white",
            "showbackground": true,
            "ticks": "",
            "zerolinecolor": "white"
           },
           "zaxis": {
            "backgroundcolor": "#E5ECF6",
            "gridcolor": "white",
            "gridwidth": 2,
            "linecolor": "white",
            "showbackground": true,
            "ticks": "",
            "zerolinecolor": "white"
           }
          },
          "shapedefaults": {
           "line": {
            "color": "#2a3f5f"
           }
          },
          "ternary": {
           "aaxis": {
            "gridcolor": "white",
            "linecolor": "white",
            "ticks": ""
           },
           "baxis": {
            "gridcolor": "white",
            "linecolor": "white",
            "ticks": ""
           },
           "bgcolor": "#E5ECF6",
           "caxis": {
            "gridcolor": "white",
            "linecolor": "white",
            "ticks": ""
           }
          },
          "title": {
           "x": 0.05
          },
          "xaxis": {
           "automargin": true,
           "gridcolor": "white",
           "linecolor": "white",
           "ticks": "",
           "title": {
            "standoff": 15
           },
           "zerolinecolor": "white",
           "zerolinewidth": 2
          },
          "yaxis": {
           "automargin": true,
           "gridcolor": "white",
           "linecolor": "white",
           "ticks": "",
           "title": {
            "standoff": 15
           },
           "zerolinecolor": "white",
           "zerolinewidth": 2
          }
         }
        },
        "title": {
         "font": {
          "color": "#4D5663"
         },
         "text": "Acreage Distribution in Percentage"
        },
        "xaxis": {
         "gridcolor": "#E1E5ED",
         "linecolor": "black",
         "showgrid": true,
         "tickfont": {
          "color": "#4D5663"
         },
         "title": {
          "font": {
           "color": "#4D5663"
          },
          "text": "Acreage"
         },
         "zerolinecolor": "#E1E5ED"
        },
        "yaxis": {
         "gridcolor": "#E1E5ED",
         "linecolor": "black",
         "showgrid": true,
         "tickfont": {
          "color": "#4D5663"
         },
         "title": {
          "font": {
           "color": "#4D5663"
          },
          "text": "percentage (%)"
         },
         "zerolinecolor": "#E1E5ED"
        }
       }
      },
      "text/html": [
       "<div>                            <div id=\"d5ca23ed-9d6d-46f0-82a2-2a36bccf7514\" class=\"plotly-graph-div\" style=\"height:525px; width:100%;\"></div>            <script type=\"text/javascript\">                require([\"plotly\"], function(Plotly) {                    window.PLOTLYENV=window.PLOTLYENV || {};\n",
       "                    window.PLOTLYENV.BASE_URL='https://plot.ly';                                    if (document.getElementById(\"d5ca23ed-9d6d-46f0-82a2-2a36bccf7514\")) {                    Plotly.newPlot(                        \"d5ca23ed-9d6d-46f0-82a2-2a36bccf7514\",                        [{\"histfunc\":\"count\",\"histnorm\":\"percent\",\"marker\":{\"color\":\"rgba(255, 153, 51, 1.0)\",\"line\":{\"color\":\"#000000\",\"width\":1.3}},\"name\":\"Acreage\",\"nbinsx\":30,\"opacity\":0.8,\"orientation\":\"v\",\"type\":\"histogram\",\"x\":[1.0,1.0,0.101,0.091,0.116,0.116,0.21,0.529,0.282,0.111,0.531,0.247,0.23,0.064,0.469,0.302,1.999,0.114,0.114,1.0,1.0,0.082,0.114,0.331,0.153,0.116,0.114,1.0,0.442,0.082,0.109,0.259,1.0,1.0,0.077,1.0,0.114,0.126,0.148,0.111,0.143,0.116,1.0,0.489,0.099,14.999,0.101,1.0,32.175,15.728,2.088,1.0,1.0,0.109,0.116,1.0,1.0,0.114,0.111,1.186,0.126,1.557,0.652,1.0,0.064,2.582,1.181,1.0,1.0,1.0,1.0,0.116,2.545,1.0,1.0,0.082,19.521,3.121,1.957,0.116,4.003,3.227,1.935,2.11,1.0,1.0,1.0,0.887,0.148,1.001,0.998,1.0,1.136,1.0,1.0,0.759,1.001,13.773,0.225,0.116,1.0,0.544,0.954,4.03,5.515,24.653,1.0,0.195,0.116,1.0,0.049,4.08,3.0,1.0,1.0,9.901,0.277,0.62,0.469,1.0,0.01,4.003,1.001,1.0,0.116,0.404,0.692,0.128,0.128,0.514,1.668,1.0,1.0,1.001,14.579,1.0,1.001,0.044,0.114,0.222,1.0,1.0,0.05,1.0,1.0,1.0,0.109,0.114,0.049,1.0,1.0,0.114,0.272,0.046,0.255,0.121,1.0,1.0,0.128,0.116,0.153,0.114,0.114,1.0,1.0,0.124,1.0,0.119,1.0,1.0]}],                        {\"barmode\":\"overlay\",\"legend\":{\"bgcolor\":\"#F5F6F9\",\"font\":{\"color\":\"#4D5663\"}},\"paper_bgcolor\":\"#F5F6F9\",\"plot_bgcolor\":\"#F5F6F9\",\"template\":{\"data\":{\"bar\":[{\"error_x\":{\"color\":\"#2a3f5f\"},\"error_y\":{\"color\":\"#2a3f5f\"},\"marker\":{\"line\":{\"color\":\"#E5ECF6\",\"width\":0.5},\"pattern\":{\"fillmode\":\"overlay\",\"size\":10,\"solidity\":0.2}},\"type\":\"bar\"}],\"barpolar\":[{\"marker\":{\"line\":{\"color\":\"#E5ECF6\",\"width\":0.5},\"pattern\":{\"fillmode\":\"overlay\",\"size\":10,\"solidity\":0.2}},\"type\":\"barpolar\"}],\"carpet\":[{\"aaxis\":{\"endlinecolor\":\"#2a3f5f\",\"gridcolor\":\"white\",\"linecolor\":\"white\",\"minorgridcolor\":\"white\",\"startlinecolor\":\"#2a3f5f\"},\"baxis\":{\"endlinecolor\":\"#2a3f5f\",\"gridcolor\":\"white\",\"linecolor\":\"white\",\"minorgridcolor\":\"white\",\"startlinecolor\":\"#2a3f5f\"},\"type\":\"carpet\"}],\"choropleth\":[{\"colorbar\":{\"outlinewidth\":0,\"ticks\":\"\"},\"type\":\"choropleth\"}],\"contour\":[{\"colorbar\":{\"outlinewidth\":0,\"ticks\":\"\"},\"colorscale\":[[0.0,\"#0d0887\"],[0.1111111111111111,\"#46039f\"],[0.2222222222222222,\"#7201a8\"],[0.3333333333333333,\"#9c179e\"],[0.4444444444444444,\"#bd3786\"],[0.5555555555555556,\"#d8576b\"],[0.6666666666666666,\"#ed7953\"],[0.7777777777777778,\"#fb9f3a\"],[0.8888888888888888,\"#fdca26\"],[1.0,\"#f0f921\"]],\"type\":\"contour\"}],\"contourcarpet\":[{\"colorbar\":{\"outlinewidth\":0,\"ticks\":\"\"},\"type\":\"contourcarpet\"}],\"heatmap\":[{\"colorbar\":{\"outlinewidth\":0,\"ticks\":\"\"},\"colorscale\":[[0.0,\"#0d0887\"],[0.1111111111111111,\"#46039f\"],[0.2222222222222222,\"#7201a8\"],[0.3333333333333333,\"#9c179e\"],[0.4444444444444444,\"#bd3786\"],[0.5555555555555556,\"#d8576b\"],[0.6666666666666666,\"#ed7953\"],[0.7777777777777778,\"#fb9f3a\"],[0.8888888888888888,\"#fdca26\"],[1.0,\"#f0f921\"]],\"type\":\"heatmap\"}],\"heatmapgl\":[{\"colorbar\":{\"outlinewidth\":0,\"ticks\":\"\"},\"colorscale\":[[0.0,\"#0d0887\"],[0.1111111111111111,\"#46039f\"],[0.2222222222222222,\"#7201a8\"],[0.3333333333333333,\"#9c179e\"],[0.4444444444444444,\"#bd3786\"],[0.5555555555555556,\"#d8576b\"],[0.6666666666666666,\"#ed7953\"],[0.7777777777777778,\"#fb9f3a\"],[0.8888888888888888,\"#fdca26\"],[1.0,\"#f0f921\"]],\"type\":\"heatmapgl\"}],\"histogram\":[{\"marker\":{\"pattern\":{\"fillmode\":\"overlay\",\"size\":10,\"solidity\":0.2}},\"type\":\"histogram\"}],\"histogram2d\":[{\"colorbar\":{\"outlinewidth\":0,\"ticks\":\"\"},\"colorscale\":[[0.0,\"#0d0887\"],[0.1111111111111111,\"#46039f\"],[0.2222222222222222,\"#7201a8\"],[0.3333333333333333,\"#9c179e\"],[0.4444444444444444,\"#bd3786\"],[0.5555555555555556,\"#d8576b\"],[0.6666666666666666,\"#ed7953\"],[0.7777777777777778,\"#fb9f3a\"],[0.8888888888888888,\"#fdca26\"],[1.0,\"#f0f921\"]],\"type\":\"histogram2d\"}],\"histogram2dcontour\":[{\"colorbar\":{\"outlinewidth\":0,\"ticks\":\"\"},\"colorscale\":[[0.0,\"#0d0887\"],[0.1111111111111111,\"#46039f\"],[0.2222222222222222,\"#7201a8\"],[0.3333333333333333,\"#9c179e\"],[0.4444444444444444,\"#bd3786\"],[0.5555555555555556,\"#d8576b\"],[0.6666666666666666,\"#ed7953\"],[0.7777777777777778,\"#fb9f3a\"],[0.8888888888888888,\"#fdca26\"],[1.0,\"#f0f921\"]],\"type\":\"histogram2dcontour\"}],\"mesh3d\":[{\"colorbar\":{\"outlinewidth\":0,\"ticks\":\"\"},\"type\":\"mesh3d\"}],\"parcoords\":[{\"line\":{\"colorbar\":{\"outlinewidth\":0,\"ticks\":\"\"}},\"type\":\"parcoords\"}],\"pie\":[{\"automargin\":true,\"type\":\"pie\"}],\"scatter\":[{\"marker\":{\"colorbar\":{\"outlinewidth\":0,\"ticks\":\"\"}},\"type\":\"scatter\"}],\"scatter3d\":[{\"line\":{\"colorbar\":{\"outlinewidth\":0,\"ticks\":\"\"}},\"marker\":{\"colorbar\":{\"outlinewidth\":0,\"ticks\":\"\"}},\"type\":\"scatter3d\"}],\"scattercarpet\":[{\"marker\":{\"colorbar\":{\"outlinewidth\":0,\"ticks\":\"\"}},\"type\":\"scattercarpet\"}],\"scattergeo\":[{\"marker\":{\"colorbar\":{\"outlinewidth\":0,\"ticks\":\"\"}},\"type\":\"scattergeo\"}],\"scattergl\":[{\"marker\":{\"colorbar\":{\"outlinewidth\":0,\"ticks\":\"\"}},\"type\":\"scattergl\"}],\"scattermapbox\":[{\"marker\":{\"colorbar\":{\"outlinewidth\":0,\"ticks\":\"\"}},\"type\":\"scattermapbox\"}],\"scatterpolar\":[{\"marker\":{\"colorbar\":{\"outlinewidth\":0,\"ticks\":\"\"}},\"type\":\"scatterpolar\"}],\"scatterpolargl\":[{\"marker\":{\"colorbar\":{\"outlinewidth\":0,\"ticks\":\"\"}},\"type\":\"scatterpolargl\"}],\"scatterternary\":[{\"marker\":{\"colorbar\":{\"outlinewidth\":0,\"ticks\":\"\"}},\"type\":\"scatterternary\"}],\"surface\":[{\"colorbar\":{\"outlinewidth\":0,\"ticks\":\"\"},\"colorscale\":[[0.0,\"#0d0887\"],[0.1111111111111111,\"#46039f\"],[0.2222222222222222,\"#7201a8\"],[0.3333333333333333,\"#9c179e\"],[0.4444444444444444,\"#bd3786\"],[0.5555555555555556,\"#d8576b\"],[0.6666666666666666,\"#ed7953\"],[0.7777777777777778,\"#fb9f3a\"],[0.8888888888888888,\"#fdca26\"],[1.0,\"#f0f921\"]],\"type\":\"surface\"}],\"table\":[{\"cells\":{\"fill\":{\"color\":\"#EBF0F8\"},\"line\":{\"color\":\"white\"}},\"header\":{\"fill\":{\"color\":\"#C8D4E3\"},\"line\":{\"color\":\"white\"}},\"type\":\"table\"}]},\"layout\":{\"annotationdefaults\":{\"arrowcolor\":\"#2a3f5f\",\"arrowhead\":0,\"arrowwidth\":1},\"autotypenumbers\":\"strict\",\"coloraxis\":{\"colorbar\":{\"outlinewidth\":0,\"ticks\":\"\"}},\"colorscale\":{\"diverging\":[[0,\"#8e0152\"],[0.1,\"#c51b7d\"],[0.2,\"#de77ae\"],[0.3,\"#f1b6da\"],[0.4,\"#fde0ef\"],[0.5,\"#f7f7f7\"],[0.6,\"#e6f5d0\"],[0.7,\"#b8e186\"],[0.8,\"#7fbc41\"],[0.9,\"#4d9221\"],[1,\"#276419\"]],\"sequential\":[[0.0,\"#0d0887\"],[0.1111111111111111,\"#46039f\"],[0.2222222222222222,\"#7201a8\"],[0.3333333333333333,\"#9c179e\"],[0.4444444444444444,\"#bd3786\"],[0.5555555555555556,\"#d8576b\"],[0.6666666666666666,\"#ed7953\"],[0.7777777777777778,\"#fb9f3a\"],[0.8888888888888888,\"#fdca26\"],[1.0,\"#f0f921\"]],\"sequentialminus\":[[0.0,\"#0d0887\"],[0.1111111111111111,\"#46039f\"],[0.2222222222222222,\"#7201a8\"],[0.3333333333333333,\"#9c179e\"],[0.4444444444444444,\"#bd3786\"],[0.5555555555555556,\"#d8576b\"],[0.6666666666666666,\"#ed7953\"],[0.7777777777777778,\"#fb9f3a\"],[0.8888888888888888,\"#fdca26\"],[1.0,\"#f0f921\"]]},\"colorway\":[\"#636efa\",\"#EF553B\",\"#00cc96\",\"#ab63fa\",\"#FFA15A\",\"#19d3f3\",\"#FF6692\",\"#B6E880\",\"#FF97FF\",\"#FECB52\"],\"font\":{\"color\":\"#2a3f5f\"},\"geo\":{\"bgcolor\":\"white\",\"lakecolor\":\"white\",\"landcolor\":\"#E5ECF6\",\"showlakes\":true,\"showland\":true,\"subunitcolor\":\"white\"},\"hoverlabel\":{\"align\":\"left\"},\"hovermode\":\"closest\",\"mapbox\":{\"style\":\"light\"},\"paper_bgcolor\":\"white\",\"plot_bgcolor\":\"#E5ECF6\",\"polar\":{\"angularaxis\":{\"gridcolor\":\"white\",\"linecolor\":\"white\",\"ticks\":\"\"},\"bgcolor\":\"#E5ECF6\",\"radialaxis\":{\"gridcolor\":\"white\",\"linecolor\":\"white\",\"ticks\":\"\"}},\"scene\":{\"xaxis\":{\"backgroundcolor\":\"#E5ECF6\",\"gridcolor\":\"white\",\"gridwidth\":2,\"linecolor\":\"white\",\"showbackground\":true,\"ticks\":\"\",\"zerolinecolor\":\"white\"},\"yaxis\":{\"backgroundcolor\":\"#E5ECF6\",\"gridcolor\":\"white\",\"gridwidth\":2,\"linecolor\":\"white\",\"showbackground\":true,\"ticks\":\"\",\"zerolinecolor\":\"white\"},\"zaxis\":{\"backgroundcolor\":\"#E5ECF6\",\"gridcolor\":\"white\",\"gridwidth\":2,\"linecolor\":\"white\",\"showbackground\":true,\"ticks\":\"\",\"zerolinecolor\":\"white\"}},\"shapedefaults\":{\"line\":{\"color\":\"#2a3f5f\"}},\"ternary\":{\"aaxis\":{\"gridcolor\":\"white\",\"linecolor\":\"white\",\"ticks\":\"\"},\"baxis\":{\"gridcolor\":\"white\",\"linecolor\":\"white\",\"ticks\":\"\"},\"bgcolor\":\"#E5ECF6\",\"caxis\":{\"gridcolor\":\"white\",\"linecolor\":\"white\",\"ticks\":\"\"}},\"title\":{\"x\":0.05},\"xaxis\":{\"automargin\":true,\"gridcolor\":\"white\",\"linecolor\":\"white\",\"ticks\":\"\",\"title\":{\"standoff\":15},\"zerolinecolor\":\"white\",\"zerolinewidth\":2},\"yaxis\":{\"automargin\":true,\"gridcolor\":\"white\",\"linecolor\":\"white\",\"ticks\":\"\",\"title\":{\"standoff\":15},\"zerolinecolor\":\"white\",\"zerolinewidth\":2}}},\"title\":{\"font\":{\"color\":\"#4D5663\"},\"text\":\"Acreage Distribution in Percentage\"},\"xaxis\":{\"gridcolor\":\"#E1E5ED\",\"linecolor\":\"black\",\"showgrid\":true,\"tickfont\":{\"color\":\"#4D5663\"},\"title\":{\"font\":{\"color\":\"#4D5663\"},\"text\":\"Acreage\"},\"zerolinecolor\":\"#E1E5ED\"},\"yaxis\":{\"gridcolor\":\"#E1E5ED\",\"linecolor\":\"black\",\"showgrid\":true,\"tickfont\":{\"color\":\"#4D5663\"},\"title\":{\"font\":{\"color\":\"#4D5663\"},\"text\":\"percentage (%)\"},\"zerolinecolor\":\"#E1E5ED\"}},                        {\"showLink\": true, \"linkText\": \"Export to plot.ly\", \"plotlyServerURL\": \"https://plot.ly\", \"responsive\": true}                    ).then(function(){\n",
       "                            \n",
       "var gd = document.getElementById('d5ca23ed-9d6d-46f0-82a2-2a36bccf7514');\n",
       "var x = new MutationObserver(function (mutations, observer) {{\n",
       "        var display = window.getComputedStyle(gd).display;\n",
       "        if (!display || display === 'none') {{\n",
       "            console.log([gd, 'removed!']);\n",
       "            Plotly.purge(gd);\n",
       "            observer.disconnect();\n",
       "        }}\n",
       "}});\n",
       "\n",
       "// Listen for the removal of the full notebook cells\n",
       "var notebookContainer = gd.closest('#notebook-container');\n",
       "if (notebookContainer) {{\n",
       "    x.observe(notebookContainer, {childList: true});\n",
       "}}\n",
       "\n",
       "// Listen for the clearing of the current output cell\n",
       "var outputEl = gd.closest('.output');\n",
       "if (outputEl) {{\n",
       "    x.observe(outputEl, {childList: true});\n",
       "}}\n",
       "\n",
       "                        })                };                });            </script>        </div>"
      ]
     },
     "metadata": {},
     "output_type": "display_data"
    }
   ],
   "source": [
    "#Histogram\n",
    "df['Acreage'].iplot(\n",
    "    kind='hist',\n",
    "    bins=30,\n",
    "    xTitle='Acreage',\n",
    "    linecolor='black',\n",
    "    histnorm='percent',\n",
    "    yTitle='percentage (%)',\n",
    "    title='Acreage Distribution in Percentage')"
   ]
  },
  {
   "cell_type": "code",
   "execution_count": 4,
   "id": "1ff8dda4",
   "metadata": {},
   "outputs": [
    {
     "data": {
      "application/vnd.plotly.v1+json": {
       "config": {
        "linkText": "Export to plot.ly",
        "plotlyServerURL": "https://plot.ly",
        "showLink": true
       },
       "data": [
        {
         "histfunc": "count",
         "histnorm": "",
         "marker": {
          "color": "rgba(255, 153, 51, 1.0)",
          "line": {
           "color": "#000000",
           "width": 1.3
          }
         },
         "name": "Use",
         "nbinsx": 30,
         "opacity": 0.8,
         "orientation": "v",
         "type": "histogram",
         "x": [
          "Agric",
          "Agric",
          "Res",
          "Res",
          "Res",
          "Res",
          "Res",
          "Res",
          "Res",
          "Res",
          "Res",
          "Res",
          "Res",
          "Res",
          "Res",
          "Res",
          "Res",
          "Res",
          "Res",
          "Res",
          "Res",
          "Comm",
          "Res",
          "Res",
          "Res",
          "Res",
          "Res",
          "Res",
          "Res",
          "Res",
          "Res",
          "Res",
          "Res",
          "Agric",
          "Res",
          "Res",
          "Res",
          "Res",
          "Res",
          "Res",
          "Res",
          "Res",
          "Res",
          "Res",
          "Res",
          "Res",
          "Res",
          "Res",
          "Agric",
          "Agrc",
          "Agric",
          "Res",
          "Res",
          "Res",
          "Res",
          "Res/Agric",
          "Res",
          "Res",
          "Res",
          "Res",
          "Res",
          "Res",
          "Res",
          "Res",
          "Res",
          "Res",
          "Res",
          "Res",
          "Res",
          "Res",
          "Agric",
          "Res",
          "Res",
          "Res",
          "Res",
          "Res",
          "Agric",
          "Agirc",
          "Agric",
          "Res",
          "Res",
          "Agric",
          "Agric",
          "Agric",
          "Agric",
          "Res",
          "Agric",
          "Res",
          "Res",
          "Res",
          "Res",
          "Res/Agric",
          "Res",
          "Agric",
          "Res",
          "Res",
          "Agric",
          "Agric",
          "Res",
          "Res",
          "Agric",
          "Agric",
          "Agric",
          "Agric",
          "Agric",
          "Agric",
          "Agric",
          "Res",
          "Res",
          "Res",
          "Res",
          "Agric",
          "Agric",
          "Agric",
          "Agric",
          "Agric",
          "Res",
          "Res",
          "Res",
          "Res",
          "Res",
          "Res",
          "Res",
          "Agric",
          "Res",
          "Res",
          "Res",
          "Res",
          "Res",
          "Res",
          "Res",
          "Res",
          "Res",
          "Res",
          "Agric",
          "Res",
          "Res",
          "Res",
          "Res",
          "Res",
          "Res",
          "Res",
          "Res",
          "Agric",
          "Inst",
          "Res",
          "Res",
          "Res",
          "Res",
          "Res",
          "Res",
          "Res",
          "Res",
          "Res",
          "Res",
          "Res",
          "Agric",
          "Res",
          "Res",
          "Res",
          "Res",
          "Res",
          "Res",
          "Res",
          "Agric",
          "Res",
          "Agric",
          "Res",
          "Agric",
          "Agric"
         ]
        }
       ],
       "layout": {
        "barmode": "overlay",
        "legend": {
         "bgcolor": "#F5F6F9",
         "font": {
          "color": "#4D5663"
         }
        },
        "paper_bgcolor": "#F5F6F9",
        "plot_bgcolor": "#F5F6F9",
        "template": {
         "data": {
          "bar": [
           {
            "error_x": {
             "color": "#2a3f5f"
            },
            "error_y": {
             "color": "#2a3f5f"
            },
            "marker": {
             "line": {
              "color": "#E5ECF6",
              "width": 0.5
             },
             "pattern": {
              "fillmode": "overlay",
              "size": 10,
              "solidity": 0.2
             }
            },
            "type": "bar"
           }
          ],
          "barpolar": [
           {
            "marker": {
             "line": {
              "color": "#E5ECF6",
              "width": 0.5
             },
             "pattern": {
              "fillmode": "overlay",
              "size": 10,
              "solidity": 0.2
             }
            },
            "type": "barpolar"
           }
          ],
          "carpet": [
           {
            "aaxis": {
             "endlinecolor": "#2a3f5f",
             "gridcolor": "white",
             "linecolor": "white",
             "minorgridcolor": "white",
             "startlinecolor": "#2a3f5f"
            },
            "baxis": {
             "endlinecolor": "#2a3f5f",
             "gridcolor": "white",
             "linecolor": "white",
             "minorgridcolor": "white",
             "startlinecolor": "#2a3f5f"
            },
            "type": "carpet"
           }
          ],
          "choropleth": [
           {
            "colorbar": {
             "outlinewidth": 0,
             "ticks": ""
            },
            "type": "choropleth"
           }
          ],
          "contour": [
           {
            "colorbar": {
             "outlinewidth": 0,
             "ticks": ""
            },
            "colorscale": [
             [
              0,
              "#0d0887"
             ],
             [
              0.1111111111111111,
              "#46039f"
             ],
             [
              0.2222222222222222,
              "#7201a8"
             ],
             [
              0.3333333333333333,
              "#9c179e"
             ],
             [
              0.4444444444444444,
              "#bd3786"
             ],
             [
              0.5555555555555556,
              "#d8576b"
             ],
             [
              0.6666666666666666,
              "#ed7953"
             ],
             [
              0.7777777777777778,
              "#fb9f3a"
             ],
             [
              0.8888888888888888,
              "#fdca26"
             ],
             [
              1,
              "#f0f921"
             ]
            ],
            "type": "contour"
           }
          ],
          "contourcarpet": [
           {
            "colorbar": {
             "outlinewidth": 0,
             "ticks": ""
            },
            "type": "contourcarpet"
           }
          ],
          "heatmap": [
           {
            "colorbar": {
             "outlinewidth": 0,
             "ticks": ""
            },
            "colorscale": [
             [
              0,
              "#0d0887"
             ],
             [
              0.1111111111111111,
              "#46039f"
             ],
             [
              0.2222222222222222,
              "#7201a8"
             ],
             [
              0.3333333333333333,
              "#9c179e"
             ],
             [
              0.4444444444444444,
              "#bd3786"
             ],
             [
              0.5555555555555556,
              "#d8576b"
             ],
             [
              0.6666666666666666,
              "#ed7953"
             ],
             [
              0.7777777777777778,
              "#fb9f3a"
             ],
             [
              0.8888888888888888,
              "#fdca26"
             ],
             [
              1,
              "#f0f921"
             ]
            ],
            "type": "heatmap"
           }
          ],
          "heatmapgl": [
           {
            "colorbar": {
             "outlinewidth": 0,
             "ticks": ""
            },
            "colorscale": [
             [
              0,
              "#0d0887"
             ],
             [
              0.1111111111111111,
              "#46039f"
             ],
             [
              0.2222222222222222,
              "#7201a8"
             ],
             [
              0.3333333333333333,
              "#9c179e"
             ],
             [
              0.4444444444444444,
              "#bd3786"
             ],
             [
              0.5555555555555556,
              "#d8576b"
             ],
             [
              0.6666666666666666,
              "#ed7953"
             ],
             [
              0.7777777777777778,
              "#fb9f3a"
             ],
             [
              0.8888888888888888,
              "#fdca26"
             ],
             [
              1,
              "#f0f921"
             ]
            ],
            "type": "heatmapgl"
           }
          ],
          "histogram": [
           {
            "marker": {
             "pattern": {
              "fillmode": "overlay",
              "size": 10,
              "solidity": 0.2
             }
            },
            "type": "histogram"
           }
          ],
          "histogram2d": [
           {
            "colorbar": {
             "outlinewidth": 0,
             "ticks": ""
            },
            "colorscale": [
             [
              0,
              "#0d0887"
             ],
             [
              0.1111111111111111,
              "#46039f"
             ],
             [
              0.2222222222222222,
              "#7201a8"
             ],
             [
              0.3333333333333333,
              "#9c179e"
             ],
             [
              0.4444444444444444,
              "#bd3786"
             ],
             [
              0.5555555555555556,
              "#d8576b"
             ],
             [
              0.6666666666666666,
              "#ed7953"
             ],
             [
              0.7777777777777778,
              "#fb9f3a"
             ],
             [
              0.8888888888888888,
              "#fdca26"
             ],
             [
              1,
              "#f0f921"
             ]
            ],
            "type": "histogram2d"
           }
          ],
          "histogram2dcontour": [
           {
            "colorbar": {
             "outlinewidth": 0,
             "ticks": ""
            },
            "colorscale": [
             [
              0,
              "#0d0887"
             ],
             [
              0.1111111111111111,
              "#46039f"
             ],
             [
              0.2222222222222222,
              "#7201a8"
             ],
             [
              0.3333333333333333,
              "#9c179e"
             ],
             [
              0.4444444444444444,
              "#bd3786"
             ],
             [
              0.5555555555555556,
              "#d8576b"
             ],
             [
              0.6666666666666666,
              "#ed7953"
             ],
             [
              0.7777777777777778,
              "#fb9f3a"
             ],
             [
              0.8888888888888888,
              "#fdca26"
             ],
             [
              1,
              "#f0f921"
             ]
            ],
            "type": "histogram2dcontour"
           }
          ],
          "mesh3d": [
           {
            "colorbar": {
             "outlinewidth": 0,
             "ticks": ""
            },
            "type": "mesh3d"
           }
          ],
          "parcoords": [
           {
            "line": {
             "colorbar": {
              "outlinewidth": 0,
              "ticks": ""
             }
            },
            "type": "parcoords"
           }
          ],
          "pie": [
           {
            "automargin": true,
            "type": "pie"
           }
          ],
          "scatter": [
           {
            "marker": {
             "colorbar": {
              "outlinewidth": 0,
              "ticks": ""
             }
            },
            "type": "scatter"
           }
          ],
          "scatter3d": [
           {
            "line": {
             "colorbar": {
              "outlinewidth": 0,
              "ticks": ""
             }
            },
            "marker": {
             "colorbar": {
              "outlinewidth": 0,
              "ticks": ""
             }
            },
            "type": "scatter3d"
           }
          ],
          "scattercarpet": [
           {
            "marker": {
             "colorbar": {
              "outlinewidth": 0,
              "ticks": ""
             }
            },
            "type": "scattercarpet"
           }
          ],
          "scattergeo": [
           {
            "marker": {
             "colorbar": {
              "outlinewidth": 0,
              "ticks": ""
             }
            },
            "type": "scattergeo"
           }
          ],
          "scattergl": [
           {
            "marker": {
             "colorbar": {
              "outlinewidth": 0,
              "ticks": ""
             }
            },
            "type": "scattergl"
           }
          ],
          "scattermapbox": [
           {
            "marker": {
             "colorbar": {
              "outlinewidth": 0,
              "ticks": ""
             }
            },
            "type": "scattermapbox"
           }
          ],
          "scatterpolar": [
           {
            "marker": {
             "colorbar": {
              "outlinewidth": 0,
              "ticks": ""
             }
            },
            "type": "scatterpolar"
           }
          ],
          "scatterpolargl": [
           {
            "marker": {
             "colorbar": {
              "outlinewidth": 0,
              "ticks": ""
             }
            },
            "type": "scatterpolargl"
           }
          ],
          "scatterternary": [
           {
            "marker": {
             "colorbar": {
              "outlinewidth": 0,
              "ticks": ""
             }
            },
            "type": "scatterternary"
           }
          ],
          "surface": [
           {
            "colorbar": {
             "outlinewidth": 0,
             "ticks": ""
            },
            "colorscale": [
             [
              0,
              "#0d0887"
             ],
             [
              0.1111111111111111,
              "#46039f"
             ],
             [
              0.2222222222222222,
              "#7201a8"
             ],
             [
              0.3333333333333333,
              "#9c179e"
             ],
             [
              0.4444444444444444,
              "#bd3786"
             ],
             [
              0.5555555555555556,
              "#d8576b"
             ],
             [
              0.6666666666666666,
              "#ed7953"
             ],
             [
              0.7777777777777778,
              "#fb9f3a"
             ],
             [
              0.8888888888888888,
              "#fdca26"
             ],
             [
              1,
              "#f0f921"
             ]
            ],
            "type": "surface"
           }
          ],
          "table": [
           {
            "cells": {
             "fill": {
              "color": "#EBF0F8"
             },
             "line": {
              "color": "white"
             }
            },
            "header": {
             "fill": {
              "color": "#C8D4E3"
             },
             "line": {
              "color": "white"
             }
            },
            "type": "table"
           }
          ]
         },
         "layout": {
          "annotationdefaults": {
           "arrowcolor": "#2a3f5f",
           "arrowhead": 0,
           "arrowwidth": 1
          },
          "autotypenumbers": "strict",
          "coloraxis": {
           "colorbar": {
            "outlinewidth": 0,
            "ticks": ""
           }
          },
          "colorscale": {
           "diverging": [
            [
             0,
             "#8e0152"
            ],
            [
             0.1,
             "#c51b7d"
            ],
            [
             0.2,
             "#de77ae"
            ],
            [
             0.3,
             "#f1b6da"
            ],
            [
             0.4,
             "#fde0ef"
            ],
            [
             0.5,
             "#f7f7f7"
            ],
            [
             0.6,
             "#e6f5d0"
            ],
            [
             0.7,
             "#b8e186"
            ],
            [
             0.8,
             "#7fbc41"
            ],
            [
             0.9,
             "#4d9221"
            ],
            [
             1,
             "#276419"
            ]
           ],
           "sequential": [
            [
             0,
             "#0d0887"
            ],
            [
             0.1111111111111111,
             "#46039f"
            ],
            [
             0.2222222222222222,
             "#7201a8"
            ],
            [
             0.3333333333333333,
             "#9c179e"
            ],
            [
             0.4444444444444444,
             "#bd3786"
            ],
            [
             0.5555555555555556,
             "#d8576b"
            ],
            [
             0.6666666666666666,
             "#ed7953"
            ],
            [
             0.7777777777777778,
             "#fb9f3a"
            ],
            [
             0.8888888888888888,
             "#fdca26"
            ],
            [
             1,
             "#f0f921"
            ]
           ],
           "sequentialminus": [
            [
             0,
             "#0d0887"
            ],
            [
             0.1111111111111111,
             "#46039f"
            ],
            [
             0.2222222222222222,
             "#7201a8"
            ],
            [
             0.3333333333333333,
             "#9c179e"
            ],
            [
             0.4444444444444444,
             "#bd3786"
            ],
            [
             0.5555555555555556,
             "#d8576b"
            ],
            [
             0.6666666666666666,
             "#ed7953"
            ],
            [
             0.7777777777777778,
             "#fb9f3a"
            ],
            [
             0.8888888888888888,
             "#fdca26"
            ],
            [
             1,
             "#f0f921"
            ]
           ]
          },
          "colorway": [
           "#636efa",
           "#EF553B",
           "#00cc96",
           "#ab63fa",
           "#FFA15A",
           "#19d3f3",
           "#FF6692",
           "#B6E880",
           "#FF97FF",
           "#FECB52"
          ],
          "font": {
           "color": "#2a3f5f"
          },
          "geo": {
           "bgcolor": "white",
           "lakecolor": "white",
           "landcolor": "#E5ECF6",
           "showlakes": true,
           "showland": true,
           "subunitcolor": "white"
          },
          "hoverlabel": {
           "align": "left"
          },
          "hovermode": "closest",
          "mapbox": {
           "style": "light"
          },
          "paper_bgcolor": "white",
          "plot_bgcolor": "#E5ECF6",
          "polar": {
           "angularaxis": {
            "gridcolor": "white",
            "linecolor": "white",
            "ticks": ""
           },
           "bgcolor": "#E5ECF6",
           "radialaxis": {
            "gridcolor": "white",
            "linecolor": "white",
            "ticks": ""
           }
          },
          "scene": {
           "xaxis": {
            "backgroundcolor": "#E5ECF6",
            "gridcolor": "white",
            "gridwidth": 2,
            "linecolor": "white",
            "showbackground": true,
            "ticks": "",
            "zerolinecolor": "white"
           },
           "yaxis": {
            "backgroundcolor": "#E5ECF6",
            "gridcolor": "white",
            "gridwidth": 2,
            "linecolor": "white",
            "showbackground": true,
            "ticks": "",
            "zerolinecolor": "white"
           },
           "zaxis": {
            "backgroundcolor": "#E5ECF6",
            "gridcolor": "white",
            "gridwidth": 2,
            "linecolor": "white",
            "showbackground": true,
            "ticks": "",
            "zerolinecolor": "white"
           }
          },
          "shapedefaults": {
           "line": {
            "color": "#2a3f5f"
           }
          },
          "ternary": {
           "aaxis": {
            "gridcolor": "white",
            "linecolor": "white",
            "ticks": ""
           },
           "baxis": {
            "gridcolor": "white",
            "linecolor": "white",
            "ticks": ""
           },
           "bgcolor": "#E5ECF6",
           "caxis": {
            "gridcolor": "white",
            "linecolor": "white",
            "ticks": ""
           }
          },
          "title": {
           "x": 0.05
          },
          "xaxis": {
           "automargin": true,
           "gridcolor": "white",
           "linecolor": "white",
           "ticks": "",
           "title": {
            "standoff": 15
           },
           "zerolinecolor": "white",
           "zerolinewidth": 2
          },
          "yaxis": {
           "automargin": true,
           "gridcolor": "white",
           "linecolor": "white",
           "ticks": "",
           "title": {
            "standoff": 15
           },
           "zerolinecolor": "white",
           "zerolinewidth": 2
          }
         }
        },
        "title": {
         "font": {
          "color": "#4D5663"
         },
         "text": "Land Use Distribution"
        },
        "xaxis": {
         "gridcolor": "#E1E5ED",
         "linecolor": "black",
         "showgrid": true,
         "tickfont": {
          "color": "#4D5663"
         },
         "title": {
          "font": {
           "color": "#4D5663"
          },
          "text": "Land Use Types"
         },
         "zerolinecolor": "#E1E5ED"
        },
        "yaxis": {
         "gridcolor": "#E1E5ED",
         "linecolor": "black",
         "showgrid": true,
         "tickfont": {
          "color": "#4D5663"
         },
         "title": {
          "font": {
           "color": "#4D5663"
          },
          "text": "count"
         },
         "zerolinecolor": "#E1E5ED"
        }
       }
      },
      "text/html": [
       "<div>                            <div id=\"40add281-f55a-41a3-949f-bcd717329871\" class=\"plotly-graph-div\" style=\"height:525px; width:100%;\"></div>            <script type=\"text/javascript\">                require([\"plotly\"], function(Plotly) {                    window.PLOTLYENV=window.PLOTLYENV || {};\n",
       "                    window.PLOTLYENV.BASE_URL='https://plot.ly';                                    if (document.getElementById(\"40add281-f55a-41a3-949f-bcd717329871\")) {                    Plotly.newPlot(                        \"40add281-f55a-41a3-949f-bcd717329871\",                        [{\"histfunc\":\"count\",\"histnorm\":\"\",\"marker\":{\"color\":\"rgba(255, 153, 51, 1.0)\",\"line\":{\"color\":\"#000000\",\"width\":1.3}},\"name\":\"Use\",\"nbinsx\":30,\"opacity\":0.8,\"orientation\":\"v\",\"type\":\"histogram\",\"x\":[\"Agric\",\"Agric\",\"Res\",\"Res\",\"Res\",\"Res\",\"Res\",\"Res\",\"Res\",\"Res\",\"Res\",\"Res\",\"Res\",\"Res\",\"Res\",\"Res\",\"Res\",\"Res\",\"Res\",\"Res\",\"Res\",\"Comm\",\"Res\",\"Res\",\"Res\",\"Res\",\"Res\",\"Res\",\"Res\",\"Res\",\"Res\",\"Res\",\"Res\",\"Agric\",\"Res\",\"Res\",\"Res\",\"Res\",\"Res\",\"Res\",\"Res\",\"Res\",\"Res\",\"Res\",\"Res\",\"Res\",\"Res\",\"Res\",\"Agric\",\"Agrc\",\"Agric\",\"Res\",\"Res\",\"Res\",\"Res\",\"Res/Agric\",\"Res\",\"Res\",\"Res\",\"Res\",\"Res\",\"Res\",\"Res\",\"Res\",\"Res\",\"Res\",\"Res\",\"Res\",\"Res\",\"Res\",\"Agric\",\"Res\",\"Res\",\"Res\",\"Res\",\"Res\",\"Agric\",\"Agirc\",\"Agric\",\"Res\",\"Res\",\"Agric\",\"Agric\",\"Agric\",\"Agric\",\"Res\",\"Agric\",\"Res\",\"Res\",\"Res\",\"Res\",\"Res/Agric\",\"Res\",\"Agric\",\"Res\",\"Res\",\"Agric\",\"Agric\",\"Res\",\"Res\",\"Agric\",\"Agric\",\"Agric\",\"Agric\",\"Agric\",\"Agric\",\"Agric\",\"Res\",\"Res\",\"Res\",\"Res\",\"Agric\",\"Agric\",\"Agric\",\"Agric\",\"Agric\",\"Res\",\"Res\",\"Res\",\"Res\",\"Res\",\"Res\",\"Res\",\"Agric\",\"Res\",\"Res\",\"Res\",\"Res\",\"Res\",\"Res\",\"Res\",\"Res\",\"Res\",\"Res\",\"Agric\",\"Res\",\"Res\",\"Res\",\"Res\",\"Res\",\"Res\",\"Res\",\"Res\",\"Agric\",\"Inst\",\"Res\",\"Res\",\"Res\",\"Res\",\"Res\",\"Res\",\"Res\",\"Res\",\"Res\",\"Res\",\"Res\",\"Agric\",\"Res\",\"Res\",\"Res\",\"Res\",\"Res\",\"Res\",\"Res\",\"Agric\",\"Res\",\"Agric\",\"Res\",\"Agric\",\"Agric\"]}],                        {\"barmode\":\"overlay\",\"legend\":{\"bgcolor\":\"#F5F6F9\",\"font\":{\"color\":\"#4D5663\"}},\"paper_bgcolor\":\"#F5F6F9\",\"plot_bgcolor\":\"#F5F6F9\",\"template\":{\"data\":{\"bar\":[{\"error_x\":{\"color\":\"#2a3f5f\"},\"error_y\":{\"color\":\"#2a3f5f\"},\"marker\":{\"line\":{\"color\":\"#E5ECF6\",\"width\":0.5},\"pattern\":{\"fillmode\":\"overlay\",\"size\":10,\"solidity\":0.2}},\"type\":\"bar\"}],\"barpolar\":[{\"marker\":{\"line\":{\"color\":\"#E5ECF6\",\"width\":0.5},\"pattern\":{\"fillmode\":\"overlay\",\"size\":10,\"solidity\":0.2}},\"type\":\"barpolar\"}],\"carpet\":[{\"aaxis\":{\"endlinecolor\":\"#2a3f5f\",\"gridcolor\":\"white\",\"linecolor\":\"white\",\"minorgridcolor\":\"white\",\"startlinecolor\":\"#2a3f5f\"},\"baxis\":{\"endlinecolor\":\"#2a3f5f\",\"gridcolor\":\"white\",\"linecolor\":\"white\",\"minorgridcolor\":\"white\",\"startlinecolor\":\"#2a3f5f\"},\"type\":\"carpet\"}],\"choropleth\":[{\"colorbar\":{\"outlinewidth\":0,\"ticks\":\"\"},\"type\":\"choropleth\"}],\"contour\":[{\"colorbar\":{\"outlinewidth\":0,\"ticks\":\"\"},\"colorscale\":[[0.0,\"#0d0887\"],[0.1111111111111111,\"#46039f\"],[0.2222222222222222,\"#7201a8\"],[0.3333333333333333,\"#9c179e\"],[0.4444444444444444,\"#bd3786\"],[0.5555555555555556,\"#d8576b\"],[0.6666666666666666,\"#ed7953\"],[0.7777777777777778,\"#fb9f3a\"],[0.8888888888888888,\"#fdca26\"],[1.0,\"#f0f921\"]],\"type\":\"contour\"}],\"contourcarpet\":[{\"colorbar\":{\"outlinewidth\":0,\"ticks\":\"\"},\"type\":\"contourcarpet\"}],\"heatmap\":[{\"colorbar\":{\"outlinewidth\":0,\"ticks\":\"\"},\"colorscale\":[[0.0,\"#0d0887\"],[0.1111111111111111,\"#46039f\"],[0.2222222222222222,\"#7201a8\"],[0.3333333333333333,\"#9c179e\"],[0.4444444444444444,\"#bd3786\"],[0.5555555555555556,\"#d8576b\"],[0.6666666666666666,\"#ed7953\"],[0.7777777777777778,\"#fb9f3a\"],[0.8888888888888888,\"#fdca26\"],[1.0,\"#f0f921\"]],\"type\":\"heatmap\"}],\"heatmapgl\":[{\"colorbar\":{\"outlinewidth\":0,\"ticks\":\"\"},\"colorscale\":[[0.0,\"#0d0887\"],[0.1111111111111111,\"#46039f\"],[0.2222222222222222,\"#7201a8\"],[0.3333333333333333,\"#9c179e\"],[0.4444444444444444,\"#bd3786\"],[0.5555555555555556,\"#d8576b\"],[0.6666666666666666,\"#ed7953\"],[0.7777777777777778,\"#fb9f3a\"],[0.8888888888888888,\"#fdca26\"],[1.0,\"#f0f921\"]],\"type\":\"heatmapgl\"}],\"histogram\":[{\"marker\":{\"pattern\":{\"fillmode\":\"overlay\",\"size\":10,\"solidity\":0.2}},\"type\":\"histogram\"}],\"histogram2d\":[{\"colorbar\":{\"outlinewidth\":0,\"ticks\":\"\"},\"colorscale\":[[0.0,\"#0d0887\"],[0.1111111111111111,\"#46039f\"],[0.2222222222222222,\"#7201a8\"],[0.3333333333333333,\"#9c179e\"],[0.4444444444444444,\"#bd3786\"],[0.5555555555555556,\"#d8576b\"],[0.6666666666666666,\"#ed7953\"],[0.7777777777777778,\"#fb9f3a\"],[0.8888888888888888,\"#fdca26\"],[1.0,\"#f0f921\"]],\"type\":\"histogram2d\"}],\"histogram2dcontour\":[{\"colorbar\":{\"outlinewidth\":0,\"ticks\":\"\"},\"colorscale\":[[0.0,\"#0d0887\"],[0.1111111111111111,\"#46039f\"],[0.2222222222222222,\"#7201a8\"],[0.3333333333333333,\"#9c179e\"],[0.4444444444444444,\"#bd3786\"],[0.5555555555555556,\"#d8576b\"],[0.6666666666666666,\"#ed7953\"],[0.7777777777777778,\"#fb9f3a\"],[0.8888888888888888,\"#fdca26\"],[1.0,\"#f0f921\"]],\"type\":\"histogram2dcontour\"}],\"mesh3d\":[{\"colorbar\":{\"outlinewidth\":0,\"ticks\":\"\"},\"type\":\"mesh3d\"}],\"parcoords\":[{\"line\":{\"colorbar\":{\"outlinewidth\":0,\"ticks\":\"\"}},\"type\":\"parcoords\"}],\"pie\":[{\"automargin\":true,\"type\":\"pie\"}],\"scatter\":[{\"marker\":{\"colorbar\":{\"outlinewidth\":0,\"ticks\":\"\"}},\"type\":\"scatter\"}],\"scatter3d\":[{\"line\":{\"colorbar\":{\"outlinewidth\":0,\"ticks\":\"\"}},\"marker\":{\"colorbar\":{\"outlinewidth\":0,\"ticks\":\"\"}},\"type\":\"scatter3d\"}],\"scattercarpet\":[{\"marker\":{\"colorbar\":{\"outlinewidth\":0,\"ticks\":\"\"}},\"type\":\"scattercarpet\"}],\"scattergeo\":[{\"marker\":{\"colorbar\":{\"outlinewidth\":0,\"ticks\":\"\"}},\"type\":\"scattergeo\"}],\"scattergl\":[{\"marker\":{\"colorbar\":{\"outlinewidth\":0,\"ticks\":\"\"}},\"type\":\"scattergl\"}],\"scattermapbox\":[{\"marker\":{\"colorbar\":{\"outlinewidth\":0,\"ticks\":\"\"}},\"type\":\"scattermapbox\"}],\"scatterpolar\":[{\"marker\":{\"colorbar\":{\"outlinewidth\":0,\"ticks\":\"\"}},\"type\":\"scatterpolar\"}],\"scatterpolargl\":[{\"marker\":{\"colorbar\":{\"outlinewidth\":0,\"ticks\":\"\"}},\"type\":\"scatterpolargl\"}],\"scatterternary\":[{\"marker\":{\"colorbar\":{\"outlinewidth\":0,\"ticks\":\"\"}},\"type\":\"scatterternary\"}],\"surface\":[{\"colorbar\":{\"outlinewidth\":0,\"ticks\":\"\"},\"colorscale\":[[0.0,\"#0d0887\"],[0.1111111111111111,\"#46039f\"],[0.2222222222222222,\"#7201a8\"],[0.3333333333333333,\"#9c179e\"],[0.4444444444444444,\"#bd3786\"],[0.5555555555555556,\"#d8576b\"],[0.6666666666666666,\"#ed7953\"],[0.7777777777777778,\"#fb9f3a\"],[0.8888888888888888,\"#fdca26\"],[1.0,\"#f0f921\"]],\"type\":\"surface\"}],\"table\":[{\"cells\":{\"fill\":{\"color\":\"#EBF0F8\"},\"line\":{\"color\":\"white\"}},\"header\":{\"fill\":{\"color\":\"#C8D4E3\"},\"line\":{\"color\":\"white\"}},\"type\":\"table\"}]},\"layout\":{\"annotationdefaults\":{\"arrowcolor\":\"#2a3f5f\",\"arrowhead\":0,\"arrowwidth\":1},\"autotypenumbers\":\"strict\",\"coloraxis\":{\"colorbar\":{\"outlinewidth\":0,\"ticks\":\"\"}},\"colorscale\":{\"diverging\":[[0,\"#8e0152\"],[0.1,\"#c51b7d\"],[0.2,\"#de77ae\"],[0.3,\"#f1b6da\"],[0.4,\"#fde0ef\"],[0.5,\"#f7f7f7\"],[0.6,\"#e6f5d0\"],[0.7,\"#b8e186\"],[0.8,\"#7fbc41\"],[0.9,\"#4d9221\"],[1,\"#276419\"]],\"sequential\":[[0.0,\"#0d0887\"],[0.1111111111111111,\"#46039f\"],[0.2222222222222222,\"#7201a8\"],[0.3333333333333333,\"#9c179e\"],[0.4444444444444444,\"#bd3786\"],[0.5555555555555556,\"#d8576b\"],[0.6666666666666666,\"#ed7953\"],[0.7777777777777778,\"#fb9f3a\"],[0.8888888888888888,\"#fdca26\"],[1.0,\"#f0f921\"]],\"sequentialminus\":[[0.0,\"#0d0887\"],[0.1111111111111111,\"#46039f\"],[0.2222222222222222,\"#7201a8\"],[0.3333333333333333,\"#9c179e\"],[0.4444444444444444,\"#bd3786\"],[0.5555555555555556,\"#d8576b\"],[0.6666666666666666,\"#ed7953\"],[0.7777777777777778,\"#fb9f3a\"],[0.8888888888888888,\"#fdca26\"],[1.0,\"#f0f921\"]]},\"colorway\":[\"#636efa\",\"#EF553B\",\"#00cc96\",\"#ab63fa\",\"#FFA15A\",\"#19d3f3\",\"#FF6692\",\"#B6E880\",\"#FF97FF\",\"#FECB52\"],\"font\":{\"color\":\"#2a3f5f\"},\"geo\":{\"bgcolor\":\"white\",\"lakecolor\":\"white\",\"landcolor\":\"#E5ECF6\",\"showlakes\":true,\"showland\":true,\"subunitcolor\":\"white\"},\"hoverlabel\":{\"align\":\"left\"},\"hovermode\":\"closest\",\"mapbox\":{\"style\":\"light\"},\"paper_bgcolor\":\"white\",\"plot_bgcolor\":\"#E5ECF6\",\"polar\":{\"angularaxis\":{\"gridcolor\":\"white\",\"linecolor\":\"white\",\"ticks\":\"\"},\"bgcolor\":\"#E5ECF6\",\"radialaxis\":{\"gridcolor\":\"white\",\"linecolor\":\"white\",\"ticks\":\"\"}},\"scene\":{\"xaxis\":{\"backgroundcolor\":\"#E5ECF6\",\"gridcolor\":\"white\",\"gridwidth\":2,\"linecolor\":\"white\",\"showbackground\":true,\"ticks\":\"\",\"zerolinecolor\":\"white\"},\"yaxis\":{\"backgroundcolor\":\"#E5ECF6\",\"gridcolor\":\"white\",\"gridwidth\":2,\"linecolor\":\"white\",\"showbackground\":true,\"ticks\":\"\",\"zerolinecolor\":\"white\"},\"zaxis\":{\"backgroundcolor\":\"#E5ECF6\",\"gridcolor\":\"white\",\"gridwidth\":2,\"linecolor\":\"white\",\"showbackground\":true,\"ticks\":\"\",\"zerolinecolor\":\"white\"}},\"shapedefaults\":{\"line\":{\"color\":\"#2a3f5f\"}},\"ternary\":{\"aaxis\":{\"gridcolor\":\"white\",\"linecolor\":\"white\",\"ticks\":\"\"},\"baxis\":{\"gridcolor\":\"white\",\"linecolor\":\"white\",\"ticks\":\"\"},\"bgcolor\":\"#E5ECF6\",\"caxis\":{\"gridcolor\":\"white\",\"linecolor\":\"white\",\"ticks\":\"\"}},\"title\":{\"x\":0.05},\"xaxis\":{\"automargin\":true,\"gridcolor\":\"white\",\"linecolor\":\"white\",\"ticks\":\"\",\"title\":{\"standoff\":15},\"zerolinecolor\":\"white\",\"zerolinewidth\":2},\"yaxis\":{\"automargin\":true,\"gridcolor\":\"white\",\"linecolor\":\"white\",\"ticks\":\"\",\"title\":{\"standoff\":15},\"zerolinecolor\":\"white\",\"zerolinewidth\":2}}},\"title\":{\"font\":{\"color\":\"#4D5663\"},\"text\":\"Land Use Distribution\"},\"xaxis\":{\"gridcolor\":\"#E1E5ED\",\"linecolor\":\"black\",\"showgrid\":true,\"tickfont\":{\"color\":\"#4D5663\"},\"title\":{\"font\":{\"color\":\"#4D5663\"},\"text\":\"Land Use Types\"},\"zerolinecolor\":\"#E1E5ED\"},\"yaxis\":{\"gridcolor\":\"#E1E5ED\",\"linecolor\":\"black\",\"showgrid\":true,\"tickfont\":{\"color\":\"#4D5663\"},\"title\":{\"font\":{\"color\":\"#4D5663\"},\"text\":\"count\"},\"zerolinecolor\":\"#E1E5ED\"}},                        {\"showLink\": true, \"linkText\": \"Export to plot.ly\", \"plotlyServerURL\": \"https://plot.ly\", \"responsive\": true}                    ).then(function(){\n",
       "                            \n",
       "var gd = document.getElementById('40add281-f55a-41a3-949f-bcd717329871');\n",
       "var x = new MutationObserver(function (mutations, observer) {{\n",
       "        var display = window.getComputedStyle(gd).display;\n",
       "        if (!display || display === 'none') {{\n",
       "            console.log([gd, 'removed!']);\n",
       "            Plotly.purge(gd);\n",
       "            observer.disconnect();\n",
       "        }}\n",
       "}});\n",
       "\n",
       "// Listen for the removal of the full notebook cells\n",
       "var notebookContainer = gd.closest('#notebook-container');\n",
       "if (notebookContainer) {{\n",
       "    x.observe(notebookContainer, {childList: true});\n",
       "}}\n",
       "\n",
       "// Listen for the clearing of the current output cell\n",
       "var outputEl = gd.closest('.output');\n",
       "if (outputEl) {{\n",
       "    x.observe(outputEl, {childList: true});\n",
       "}}\n",
       "\n",
       "                        })                };                });            </script>        </div>"
      ]
     },
     "metadata": {},
     "output_type": "display_data"
    }
   ],
   "source": [
    "df['Use'].iplot(\n",
    "    kind='hist',\n",
    "    bins=30,\n",
    "    xTitle='Land Use Types',\n",
    "    linecolor='black',\n",
    "    yTitle='count',\n",
    "    title='Land Use Distribution')"
   ]
  },
  {
   "cell_type": "code",
   "execution_count": 5,
   "id": "5a5b28e0",
   "metadata": {},
   "outputs": [
    {
     "data": {
      "application/vnd.plotly.v1+json": {
       "config": {
        "linkText": "Export to plot.ly",
        "plotlyServerURL": "https://plot.ly",
        "showLink": true
       },
       "data": [
        {
         "marker": {
          "color": "rgba(255, 153, 51, 0.6)",
          "line": {
           "color": "rgba(255, 153, 51, 1.0)",
           "width": 1
          }
         },
         "name": "Value",
         "orientation": "v",
         "text": "",
         "type": "bar",
         "x": [
          "2016-06-27T00:00:00",
          "20/07/2017",
          "2016-06-28T00:00:00",
          "2018-08-14T00:00:00",
          "2018-06-21T00:00:00",
          "2017-07-16T00:00:00",
          "2018-12-07T00:00:00",
          "2018-05-18T00:00:00",
          "2016-04-06T00:00:00",
          "2016-04-05T00:00:00",
          "2018-04-01T00:00:00",
          "2018-11-09T00:00:00",
          "16/10/2017",
          "13/06/2015",
          "2016-10-03T00:00:00",
          "20/07/2017",
          "24/06/2017",
          "19/02/2016",
          "30/06/2016",
          "2016-11-02T00:00:00",
          "2016-05-17T00:00:00",
          "2016-09-05T00:00:00",
          "2017-03-20T00:00:00",
          "2015-03-04T00:00:00",
          "16/09/2018",
          "19/04/2016",
          "2016-12-07T00:00:00",
          "2018-04-11T00:00:00",
          "19/08/2017",
          "2017-10-30T00:00:00",
          "17/03/2016",
          "18/09/2016",
          "2016-03-31T00:00:00",
          "2017-12-06T00:00:00",
          "2017-06-15T00:00:00",
          "2018-11-06T00:00:00",
          "23/04/2016",
          "16/08/2016",
          "2017-07-05T00:00:00",
          "2016-10-26T00:00:00",
          "2016-08-25T00:00:00",
          "2016-05-17T00:00:00",
          "2015-01-06T00:00:00",
          "2018-05-14T00:00:00",
          "2016-05-02T00:00:00",
          "30/08/2018",
          "2016-04-01T00:00:00",
          "2015-01-15T00:00:00",
          "19/11/2018",
          "19/06/2018",
          "14/05/2018",
          "2016-11-03T00:00:00",
          "2018-06-18T00:00:00",
          "16/10/2016",
          "2017-06-28T00:00:00",
          "2016-05-19T00:00:00",
          "2017-10-05T00:00:00",
          "2016-03-29T00:00:00",
          "2015-01-13T00:00:00",
          "13/04/2017",
          "2015-11-05T00:00:00",
          "2018-07-09T00:00:00",
          "18/11/2015",
          "15/05/2018",
          "24/09/2017",
          "2017-09-07T00:00:00",
          "2017-09-05T00:00:00",
          "2017-03-13T00:00:00",
          "2016-12-05T00:00:00",
          "2016-10-31T00:00:00",
          "2015-01-27T00:00:00",
          "28/07/2016",
          "26/05/2015",
          "2016-08-30T00:00:00",
          "2016-08-03T00:00:00",
          "2016-08-02T00:00:00",
          "13/07/2015",
          "22/06/2017",
          "2018-06-25T00:00:00",
          "2017-02-08T00:00:00",
          "2016-09-13T00:00:00",
          "2016-09-07T00:00:00",
          "16/02/2015",
          "18/10/2017",
          "21/06/2018",
          "3018-10-03T00:00:00",
          "26/03/2016",
          "27/05/2016",
          "16/10/2018",
          "2018-12-12T00:00:00",
          "17/08/2017",
          "2017-10-04T00:00:00",
          "19/06/2016",
          "2017-11-28T00:00:00",
          "19/05/2016",
          "2018-11-07T00:00:00",
          "2018-03-07T00:00:00",
          "2017-08-22T00:00:00",
          "2016-07-16T00:00:00",
          "2015-03-04T00:00:00",
          "18/06/2017",
          "2016-05-20T00:00:00",
          "2016-05-20T00:00:00",
          "2017-08-18T00:00:00",
          "2016-12-05T00:00:00",
          "21/08/2017",
          "22/06/2016",
          "17/07/2016",
          "2017-12-04T00:00:00",
          "2016-07-04T00:00:00",
          "2017-03-07T00:00:00",
          "2017-11-12T00:00:00",
          "2017-01-03T00:00:00",
          "2016-06-24T00:00:00",
          "2016-06-24T00:00:00",
          "2018-03-12T00:00:00",
          "16/03/2017",
          "2018-05-04T00:00:00",
          "2016-03-30T00:00:00",
          "2016-12-03T00:00:00",
          "16/04/2016",
          "2017-08-01T00:00:00",
          "2016-09-01T00:00:00",
          "2016-09-01T00:00:00",
          "2016-06-28T00:00:00",
          "2018-03-28T00:00:00",
          "2016-05-10T00:00:00",
          "2014-12-11T00:00:00",
          "2015-10-12T00:00:00",
          "16/09/2016",
          "2016-07-01T00:00:00",
          "2016-05-13T00:00:00",
          "2015-12-07T00:00:00",
          "2016-04-04T00:00:00",
          "2014-12-15T00:00:00",
          "2018-02-15T00:00:00",
          "19/06/2017",
          "2016-09-05T00:00:00",
          "2018-05-15T00:00:00",
          "2017-10-03T00:00:00",
          "17/05/2017",
          "2017-01-04T00:00:00",
          "2016-05-30T00:00:00",
          "19/12/2017",
          "18/11/2018",
          "17/06/2015",
          "2017-08-25T00:00:00",
          "2016-06-30T00:00:00",
          "2016-05-02T00:00:00",
          "2015-12-04T00:00:00",
          "17/05/2016",
          "16/12/2016",
          "19/01/2018",
          "2017-11-01T00:00:00",
          "2017-09-27T00:00:00",
          "2016-08-09T00:00:00",
          "2017-10-03T00:00:00",
          "2016-05-09T00:00:00",
          "19/02/2015",
          "20/07/2018",
          "2016-11-22T00:00:00",
          "21/05/2016",
          "19/04/2017",
          "20/01/2018",
          "2016-03-29T00:00:00",
          "2015-02-12T00:00:00",
          "18/04/2015",
          "18/01/2016",
          "2017-04-10T00:00:00",
          "16/10/2016"
         ],
         "y": [
          10000000,
          20000000,
          4000000,
          15000000,
          10000000,
          15000000,
          20000000,
          25000000,
          30000000,
          10000000,
          30000000,
          30000000,
          18500000,
          6000000,
          20000000,
          15000000,
          100000000,
          10000000,
          5000000,
          38000000,
          140000000,
          7000000,
          10000000,
          8000000,
          6000000,
          8000000,
          5000000,
          35000000,
          15000000,
          5000000,
          5000000,
          7000000,
          10000000,
          1000000,
          2000000,
          25000000,
          14000000,
          12000000,
          8000000,
          9000000,
          10000000,
          6300000,
          24000000,
          10000000,
          4000000,
          330000000,
          5800000,
          16000000,
          320000000,
          150000000,
          12000000,
          2000000,
          16000000,
          7000000,
          3000000,
          4500000,
          16000000,
          6000000,
          7000000,
          5500000,
          4000000,
          7500000,
          2600000,
          40000000,
          6000000,
          15000000,
          4000000,
          10000000,
          2000000,
          2000000,
          500000,
          8000000,
          20000000,
          16000000,
          7000000,
          8000000,
          80000000,
          18000000,
          24000000,
          2900000,
          20000000,
          12000000,
          8000000,
          5000000,
          1000000,
          9000000,
          20000000,
          35000000,
          10000000,
          25000000,
          18000000,
          11000000,
          3000000,
          5000000,
          1000000,
          6000000,
          3000000,
          137700000,
          10000000,
          2000000,
          200000,
          3000000,
          3500000,
          20000000,
          20000000,
          75000000,
          7000000,
          9500000,
          5000000,
          20000000,
          3000000,
          60000000,
          20000000,
          6500000,
          6000000,
          40000000,
          2000000,
          10000000,
          5000000,
          12000000,
          4000000,
          25000000,
          5000000,
          4000000,
          4000000,
          12000000,
          7500000,
          10000000,
          3000000,
          5000000,
          17000000,
          800000,
          1623000,
          7000000,
          59000000,
          12000000,
          40000000,
          4000000,
          6000000,
          14000000,
          15000000,
          30000000,
          5000000,
          4000000,
          6820000,
          15000000,
          10000000,
          8000000,
          3000000,
          5000000,
          4000000,
          18000000,
          25000000,
          5000000,
          10000000,
          5000000,
          4000000,
          6000000,
          2000000,
          15000000,
          8500000,
          7000000,
          9000000,
          30000000,
          3000000,
          1000000,
          3000000,
          3500000,
          20000000,
          4000000
         ]
        }
       ],
       "layout": {
        "legend": {
         "bgcolor": "#F5F6F9",
         "font": {
          "color": "#4D5663"
         }
        },
        "paper_bgcolor": "#F5F6F9",
        "plot_bgcolor": "#F5F6F9",
        "template": {
         "data": {
          "bar": [
           {
            "error_x": {
             "color": "#2a3f5f"
            },
            "error_y": {
             "color": "#2a3f5f"
            },
            "marker": {
             "line": {
              "color": "#E5ECF6",
              "width": 0.5
             },
             "pattern": {
              "fillmode": "overlay",
              "size": 10,
              "solidity": 0.2
             }
            },
            "type": "bar"
           }
          ],
          "barpolar": [
           {
            "marker": {
             "line": {
              "color": "#E5ECF6",
              "width": 0.5
             },
             "pattern": {
              "fillmode": "overlay",
              "size": 10,
              "solidity": 0.2
             }
            },
            "type": "barpolar"
           }
          ],
          "carpet": [
           {
            "aaxis": {
             "endlinecolor": "#2a3f5f",
             "gridcolor": "white",
             "linecolor": "white",
             "minorgridcolor": "white",
             "startlinecolor": "#2a3f5f"
            },
            "baxis": {
             "endlinecolor": "#2a3f5f",
             "gridcolor": "white",
             "linecolor": "white",
             "minorgridcolor": "white",
             "startlinecolor": "#2a3f5f"
            },
            "type": "carpet"
           }
          ],
          "choropleth": [
           {
            "colorbar": {
             "outlinewidth": 0,
             "ticks": ""
            },
            "type": "choropleth"
           }
          ],
          "contour": [
           {
            "colorbar": {
             "outlinewidth": 0,
             "ticks": ""
            },
            "colorscale": [
             [
              0,
              "#0d0887"
             ],
             [
              0.1111111111111111,
              "#46039f"
             ],
             [
              0.2222222222222222,
              "#7201a8"
             ],
             [
              0.3333333333333333,
              "#9c179e"
             ],
             [
              0.4444444444444444,
              "#bd3786"
             ],
             [
              0.5555555555555556,
              "#d8576b"
             ],
             [
              0.6666666666666666,
              "#ed7953"
             ],
             [
              0.7777777777777778,
              "#fb9f3a"
             ],
             [
              0.8888888888888888,
              "#fdca26"
             ],
             [
              1,
              "#f0f921"
             ]
            ],
            "type": "contour"
           }
          ],
          "contourcarpet": [
           {
            "colorbar": {
             "outlinewidth": 0,
             "ticks": ""
            },
            "type": "contourcarpet"
           }
          ],
          "heatmap": [
           {
            "colorbar": {
             "outlinewidth": 0,
             "ticks": ""
            },
            "colorscale": [
             [
              0,
              "#0d0887"
             ],
             [
              0.1111111111111111,
              "#46039f"
             ],
             [
              0.2222222222222222,
              "#7201a8"
             ],
             [
              0.3333333333333333,
              "#9c179e"
             ],
             [
              0.4444444444444444,
              "#bd3786"
             ],
             [
              0.5555555555555556,
              "#d8576b"
             ],
             [
              0.6666666666666666,
              "#ed7953"
             ],
             [
              0.7777777777777778,
              "#fb9f3a"
             ],
             [
              0.8888888888888888,
              "#fdca26"
             ],
             [
              1,
              "#f0f921"
             ]
            ],
            "type": "heatmap"
           }
          ],
          "heatmapgl": [
           {
            "colorbar": {
             "outlinewidth": 0,
             "ticks": ""
            },
            "colorscale": [
             [
              0,
              "#0d0887"
             ],
             [
              0.1111111111111111,
              "#46039f"
             ],
             [
              0.2222222222222222,
              "#7201a8"
             ],
             [
              0.3333333333333333,
              "#9c179e"
             ],
             [
              0.4444444444444444,
              "#bd3786"
             ],
             [
              0.5555555555555556,
              "#d8576b"
             ],
             [
              0.6666666666666666,
              "#ed7953"
             ],
             [
              0.7777777777777778,
              "#fb9f3a"
             ],
             [
              0.8888888888888888,
              "#fdca26"
             ],
             [
              1,
              "#f0f921"
             ]
            ],
            "type": "heatmapgl"
           }
          ],
          "histogram": [
           {
            "marker": {
             "pattern": {
              "fillmode": "overlay",
              "size": 10,
              "solidity": 0.2
             }
            },
            "type": "histogram"
           }
          ],
          "histogram2d": [
           {
            "colorbar": {
             "outlinewidth": 0,
             "ticks": ""
            },
            "colorscale": [
             [
              0,
              "#0d0887"
             ],
             [
              0.1111111111111111,
              "#46039f"
             ],
             [
              0.2222222222222222,
              "#7201a8"
             ],
             [
              0.3333333333333333,
              "#9c179e"
             ],
             [
              0.4444444444444444,
              "#bd3786"
             ],
             [
              0.5555555555555556,
              "#d8576b"
             ],
             [
              0.6666666666666666,
              "#ed7953"
             ],
             [
              0.7777777777777778,
              "#fb9f3a"
             ],
             [
              0.8888888888888888,
              "#fdca26"
             ],
             [
              1,
              "#f0f921"
             ]
            ],
            "type": "histogram2d"
           }
          ],
          "histogram2dcontour": [
           {
            "colorbar": {
             "outlinewidth": 0,
             "ticks": ""
            },
            "colorscale": [
             [
              0,
              "#0d0887"
             ],
             [
              0.1111111111111111,
              "#46039f"
             ],
             [
              0.2222222222222222,
              "#7201a8"
             ],
             [
              0.3333333333333333,
              "#9c179e"
             ],
             [
              0.4444444444444444,
              "#bd3786"
             ],
             [
              0.5555555555555556,
              "#d8576b"
             ],
             [
              0.6666666666666666,
              "#ed7953"
             ],
             [
              0.7777777777777778,
              "#fb9f3a"
             ],
             [
              0.8888888888888888,
              "#fdca26"
             ],
             [
              1,
              "#f0f921"
             ]
            ],
            "type": "histogram2dcontour"
           }
          ],
          "mesh3d": [
           {
            "colorbar": {
             "outlinewidth": 0,
             "ticks": ""
            },
            "type": "mesh3d"
           }
          ],
          "parcoords": [
           {
            "line": {
             "colorbar": {
              "outlinewidth": 0,
              "ticks": ""
             }
            },
            "type": "parcoords"
           }
          ],
          "pie": [
           {
            "automargin": true,
            "type": "pie"
           }
          ],
          "scatter": [
           {
            "marker": {
             "colorbar": {
              "outlinewidth": 0,
              "ticks": ""
             }
            },
            "type": "scatter"
           }
          ],
          "scatter3d": [
           {
            "line": {
             "colorbar": {
              "outlinewidth": 0,
              "ticks": ""
             }
            },
            "marker": {
             "colorbar": {
              "outlinewidth": 0,
              "ticks": ""
             }
            },
            "type": "scatter3d"
           }
          ],
          "scattercarpet": [
           {
            "marker": {
             "colorbar": {
              "outlinewidth": 0,
              "ticks": ""
             }
            },
            "type": "scattercarpet"
           }
          ],
          "scattergeo": [
           {
            "marker": {
             "colorbar": {
              "outlinewidth": 0,
              "ticks": ""
             }
            },
            "type": "scattergeo"
           }
          ],
          "scattergl": [
           {
            "marker": {
             "colorbar": {
              "outlinewidth": 0,
              "ticks": ""
             }
            },
            "type": "scattergl"
           }
          ],
          "scattermapbox": [
           {
            "marker": {
             "colorbar": {
              "outlinewidth": 0,
              "ticks": ""
             }
            },
            "type": "scattermapbox"
           }
          ],
          "scatterpolar": [
           {
            "marker": {
             "colorbar": {
              "outlinewidth": 0,
              "ticks": ""
             }
            },
            "type": "scatterpolar"
           }
          ],
          "scatterpolargl": [
           {
            "marker": {
             "colorbar": {
              "outlinewidth": 0,
              "ticks": ""
             }
            },
            "type": "scatterpolargl"
           }
          ],
          "scatterternary": [
           {
            "marker": {
             "colorbar": {
              "outlinewidth": 0,
              "ticks": ""
             }
            },
            "type": "scatterternary"
           }
          ],
          "surface": [
           {
            "colorbar": {
             "outlinewidth": 0,
             "ticks": ""
            },
            "colorscale": [
             [
              0,
              "#0d0887"
             ],
             [
              0.1111111111111111,
              "#46039f"
             ],
             [
              0.2222222222222222,
              "#7201a8"
             ],
             [
              0.3333333333333333,
              "#9c179e"
             ],
             [
              0.4444444444444444,
              "#bd3786"
             ],
             [
              0.5555555555555556,
              "#d8576b"
             ],
             [
              0.6666666666666666,
              "#ed7953"
             ],
             [
              0.7777777777777778,
              "#fb9f3a"
             ],
             [
              0.8888888888888888,
              "#fdca26"
             ],
             [
              1,
              "#f0f921"
             ]
            ],
            "type": "surface"
           }
          ],
          "table": [
           {
            "cells": {
             "fill": {
              "color": "#EBF0F8"
             },
             "line": {
              "color": "white"
             }
            },
            "header": {
             "fill": {
              "color": "#C8D4E3"
             },
             "line": {
              "color": "white"
             }
            },
            "type": "table"
           }
          ]
         },
         "layout": {
          "annotationdefaults": {
           "arrowcolor": "#2a3f5f",
           "arrowhead": 0,
           "arrowwidth": 1
          },
          "autotypenumbers": "strict",
          "coloraxis": {
           "colorbar": {
            "outlinewidth": 0,
            "ticks": ""
           }
          },
          "colorscale": {
           "diverging": [
            [
             0,
             "#8e0152"
            ],
            [
             0.1,
             "#c51b7d"
            ],
            [
             0.2,
             "#de77ae"
            ],
            [
             0.3,
             "#f1b6da"
            ],
            [
             0.4,
             "#fde0ef"
            ],
            [
             0.5,
             "#f7f7f7"
            ],
            [
             0.6,
             "#e6f5d0"
            ],
            [
             0.7,
             "#b8e186"
            ],
            [
             0.8,
             "#7fbc41"
            ],
            [
             0.9,
             "#4d9221"
            ],
            [
             1,
             "#276419"
            ]
           ],
           "sequential": [
            [
             0,
             "#0d0887"
            ],
            [
             0.1111111111111111,
             "#46039f"
            ],
            [
             0.2222222222222222,
             "#7201a8"
            ],
            [
             0.3333333333333333,
             "#9c179e"
            ],
            [
             0.4444444444444444,
             "#bd3786"
            ],
            [
             0.5555555555555556,
             "#d8576b"
            ],
            [
             0.6666666666666666,
             "#ed7953"
            ],
            [
             0.7777777777777778,
             "#fb9f3a"
            ],
            [
             0.8888888888888888,
             "#fdca26"
            ],
            [
             1,
             "#f0f921"
            ]
           ],
           "sequentialminus": [
            [
             0,
             "#0d0887"
            ],
            [
             0.1111111111111111,
             "#46039f"
            ],
            [
             0.2222222222222222,
             "#7201a8"
            ],
            [
             0.3333333333333333,
             "#9c179e"
            ],
            [
             0.4444444444444444,
             "#bd3786"
            ],
            [
             0.5555555555555556,
             "#d8576b"
            ],
            [
             0.6666666666666666,
             "#ed7953"
            ],
            [
             0.7777777777777778,
             "#fb9f3a"
            ],
            [
             0.8888888888888888,
             "#fdca26"
            ],
            [
             1,
             "#f0f921"
            ]
           ]
          },
          "colorway": [
           "#636efa",
           "#EF553B",
           "#00cc96",
           "#ab63fa",
           "#FFA15A",
           "#19d3f3",
           "#FF6692",
           "#B6E880",
           "#FF97FF",
           "#FECB52"
          ],
          "font": {
           "color": "#2a3f5f"
          },
          "geo": {
           "bgcolor": "white",
           "lakecolor": "white",
           "landcolor": "#E5ECF6",
           "showlakes": true,
           "showland": true,
           "subunitcolor": "white"
          },
          "hoverlabel": {
           "align": "left"
          },
          "hovermode": "closest",
          "mapbox": {
           "style": "light"
          },
          "paper_bgcolor": "white",
          "plot_bgcolor": "#E5ECF6",
          "polar": {
           "angularaxis": {
            "gridcolor": "white",
            "linecolor": "white",
            "ticks": ""
           },
           "bgcolor": "#E5ECF6",
           "radialaxis": {
            "gridcolor": "white",
            "linecolor": "white",
            "ticks": ""
           }
          },
          "scene": {
           "xaxis": {
            "backgroundcolor": "#E5ECF6",
            "gridcolor": "white",
            "gridwidth": 2,
            "linecolor": "white",
            "showbackground": true,
            "ticks": "",
            "zerolinecolor": "white"
           },
           "yaxis": {
            "backgroundcolor": "#E5ECF6",
            "gridcolor": "white",
            "gridwidth": 2,
            "linecolor": "white",
            "showbackground": true,
            "ticks": "",
            "zerolinecolor": "white"
           },
           "zaxis": {
            "backgroundcolor": "#E5ECF6",
            "gridcolor": "white",
            "gridwidth": 2,
            "linecolor": "white",
            "showbackground": true,
            "ticks": "",
            "zerolinecolor": "white"
           }
          },
          "shapedefaults": {
           "line": {
            "color": "#2a3f5f"
           }
          },
          "ternary": {
           "aaxis": {
            "gridcolor": "white",
            "linecolor": "white",
            "ticks": ""
           },
           "baxis": {
            "gridcolor": "white",
            "linecolor": "white",
            "ticks": ""
           },
           "bgcolor": "#E5ECF6",
           "caxis": {
            "gridcolor": "white",
            "linecolor": "white",
            "ticks": ""
           }
          },
          "title": {
           "x": 0.05
          },
          "xaxis": {
           "automargin": true,
           "gridcolor": "white",
           "linecolor": "white",
           "ticks": "",
           "title": {
            "standoff": 15
           },
           "zerolinecolor": "white",
           "zerolinewidth": 2
          },
          "yaxis": {
           "automargin": true,
           "gridcolor": "white",
           "linecolor": "white",
           "ticks": "",
           "title": {
            "standoff": 15
           },
           "zerolinecolor": "white",
           "zerolinewidth": 2
          }
         }
        },
        "title": {
         "font": {
          "color": "#4D5663"
         },
         "text": "Value Trends"
        },
        "xaxis": {
         "gridcolor": "#E1E5ED",
         "showgrid": true,
         "tickfont": {
          "color": "#4D5663"
         },
         "title": {
          "font": {
           "color": "#4D5663"
          },
          "text": "Date"
         },
         "zerolinecolor": "#E1E5ED"
        },
        "yaxis": {
         "gridcolor": "#E1E5ED",
         "showgrid": true,
         "tickfont": {
          "color": "#4D5663"
         },
         "title": {
          "font": {
           "color": "#4D5663"
          },
          "text": "Value"
         },
         "zerolinecolor": "#E1E5ED"
        }
       }
      },
      "text/html": [
       "<div>                            <div id=\"4cf5def7-7890-45f4-8381-f87d1f12f0b1\" class=\"plotly-graph-div\" style=\"height:525px; width:100%;\"></div>            <script type=\"text/javascript\">                require([\"plotly\"], function(Plotly) {                    window.PLOTLYENV=window.PLOTLYENV || {};\n",
       "                    window.PLOTLYENV.BASE_URL='https://plot.ly';                                    if (document.getElementById(\"4cf5def7-7890-45f4-8381-f87d1f12f0b1\")) {                    Plotly.newPlot(                        \"4cf5def7-7890-45f4-8381-f87d1f12f0b1\",                        [{\"marker\":{\"color\":\"rgba(255, 153, 51, 0.6)\",\"line\":{\"color\":\"rgba(255, 153, 51, 1.0)\",\"width\":1}},\"name\":\"Value\",\"orientation\":\"v\",\"text\":\"\",\"type\":\"bar\",\"x\":[\"2016-06-27T00:00:00\",\"20/07/2017\",\"2016-06-28T00:00:00\",\"2018-08-14T00:00:00\",\"2018-06-21T00:00:00\",\"2017-07-16T00:00:00\",\"2018-12-07T00:00:00\",\"2018-05-18T00:00:00\",\"2016-04-06T00:00:00\",\"2016-04-05T00:00:00\",\"2018-04-01T00:00:00\",\"2018-11-09T00:00:00\",\"16/10/2017\",\"13/06/2015\",\"2016-10-03T00:00:00\",\"20/07/2017\",\"24/06/2017\",\"19/02/2016\",\"30/06/2016\",\"2016-11-02T00:00:00\",\"2016-05-17T00:00:00\",\"2016-09-05T00:00:00\",\"2017-03-20T00:00:00\",\"2015-03-04T00:00:00\",\"16/09/2018\",\"19/04/2016\",\"2016-12-07T00:00:00\",\"2018-04-11T00:00:00\",\"19/08/2017\",\"2017-10-30T00:00:00\",\"17/03/2016\",\"18/09/2016\",\"2016-03-31T00:00:00\",\"2017-12-06T00:00:00\",\"2017-06-15T00:00:00\",\"2018-11-06T00:00:00\",\"23/04/2016\",\"16/08/2016\",\"2017-07-05T00:00:00\",\"2016-10-26T00:00:00\",\"2016-08-25T00:00:00\",\"2016-05-17T00:00:00\",\"2015-01-06T00:00:00\",\"2018-05-14T00:00:00\",\"2016-05-02T00:00:00\",\"30/08/2018\",\"2016-04-01T00:00:00\",\"2015-01-15T00:00:00\",\"19/11/2018\",\"19/06/2018\",\"14/05/2018\",\"2016-11-03T00:00:00\",\"2018-06-18T00:00:00\",\"16/10/2016\",\"2017-06-28T00:00:00\",\"2016-05-19T00:00:00\",\"2017-10-05T00:00:00\",\"2016-03-29T00:00:00\",\"2015-01-13T00:00:00\",\"13/04/2017\",\"2015-11-05T00:00:00\",\"2018-07-09T00:00:00\",\"18/11/2015\",\"15/05/2018\",\"24/09/2017\",\"2017-09-07T00:00:00\",\"2017-09-05T00:00:00\",\"2017-03-13T00:00:00\",\"2016-12-05T00:00:00\",\"2016-10-31T00:00:00\",\"2015-01-27T00:00:00\",\"28/07/2016\",\"26/05/2015\",\"2016-08-30T00:00:00\",\"2016-08-03T00:00:00\",\"2016-08-02T00:00:00\",\"13/07/2015\",\"22/06/2017\",\"2018-06-25T00:00:00\",\"2017-02-08T00:00:00\",\"2016-09-13T00:00:00\",\"2016-09-07T00:00:00\",\"16/02/2015\",\"18/10/2017\",\"21/06/2018\",\"3018-10-03T00:00:00\",\"26/03/2016\",\"27/05/2016\",\"16/10/2018\",\"2018-12-12T00:00:00\",\"17/08/2017\",\"2017-10-04T00:00:00\",\"19/06/2016\",\"2017-11-28T00:00:00\",\"19/05/2016\",\"2018-11-07T00:00:00\",\"2018-03-07T00:00:00\",\"2017-08-22T00:00:00\",\"2016-07-16T00:00:00\",\"2015-03-04T00:00:00\",\"18/06/2017\",\"2016-05-20T00:00:00\",\"2016-05-20T00:00:00\",\"2017-08-18T00:00:00\",\"2016-12-05T00:00:00\",\"21/08/2017\",\"22/06/2016\",\"17/07/2016\",\"2017-12-04T00:00:00\",\"2016-07-04T00:00:00\",\"2017-03-07T00:00:00\",\"2017-11-12T00:00:00\",\"2017-01-03T00:00:00\",\"2016-06-24T00:00:00\",\"2016-06-24T00:00:00\",\"2018-03-12T00:00:00\",\"16/03/2017\",\"2018-05-04T00:00:00\",\"2016-03-30T00:00:00\",\"2016-12-03T00:00:00\",\"16/04/2016\",\"2017-08-01T00:00:00\",\"2016-09-01T00:00:00\",\"2016-09-01T00:00:00\",\"2016-06-28T00:00:00\",\"2018-03-28T00:00:00\",\"2016-05-10T00:00:00\",\"2014-12-11T00:00:00\",\"2015-10-12T00:00:00\",\"16/09/2016\",\"2016-07-01T00:00:00\",\"2016-05-13T00:00:00\",\"2015-12-07T00:00:00\",\"2016-04-04T00:00:00\",\"2014-12-15T00:00:00\",\"2018-02-15T00:00:00\",\"19/06/2017\",\"2016-09-05T00:00:00\",\"2018-05-15T00:00:00\",\"2017-10-03T00:00:00\",\"17/05/2017\",\"2017-01-04T00:00:00\",\"2016-05-30T00:00:00\",\"19/12/2017\",\"18/11/2018\",\"17/06/2015\",\"2017-08-25T00:00:00\",\"2016-06-30T00:00:00\",\"2016-05-02T00:00:00\",\"2015-12-04T00:00:00\",\"17/05/2016\",\"16/12/2016\",\"19/01/2018\",\"2017-11-01T00:00:00\",\"2017-09-27T00:00:00\",\"2016-08-09T00:00:00\",\"2017-10-03T00:00:00\",\"2016-05-09T00:00:00\",\"19/02/2015\",\"20/07/2018\",\"2016-11-22T00:00:00\",\"21/05/2016\",\"19/04/2017\",\"20/01/2018\",\"2016-03-29T00:00:00\",\"2015-02-12T00:00:00\",\"18/04/2015\",\"18/01/2016\",\"2017-04-10T00:00:00\",\"16/10/2016\"],\"y\":[10000000,20000000,4000000,15000000,10000000,15000000,20000000,25000000,30000000,10000000,30000000,30000000,18500000,6000000,20000000,15000000,100000000,10000000,5000000,38000000,140000000,7000000,10000000,8000000,6000000,8000000,5000000,35000000,15000000,5000000,5000000,7000000,10000000,1000000,2000000,25000000,14000000,12000000,8000000,9000000,10000000,6300000,24000000,10000000,4000000,330000000,5800000,16000000,320000000,150000000,12000000,2000000,16000000,7000000,3000000,4500000,16000000,6000000,7000000,5500000,4000000,7500000,2600000,40000000,6000000,15000000,4000000,10000000,2000000,2000000,500000,8000000,20000000,16000000,7000000,8000000,80000000,18000000,24000000,2900000,20000000,12000000,8000000,5000000,1000000,9000000,20000000,35000000,10000000,25000000,18000000,11000000,3000000,5000000,1000000,6000000,3000000,137700000,10000000,2000000,200000,3000000,3500000,20000000,20000000,75000000,7000000,9500000,5000000,20000000,3000000,60000000,20000000,6500000,6000000,40000000,2000000,10000000,5000000,12000000,4000000,25000000,5000000,4000000,4000000,12000000,7500000,10000000,3000000,5000000,17000000,800000,1623000,7000000,59000000,12000000,40000000,4000000,6000000,14000000,15000000,30000000,5000000,4000000,6820000,15000000,10000000,8000000,3000000,5000000,4000000,18000000,25000000,5000000,10000000,5000000,4000000,6000000,2000000,15000000,8500000,7000000,9000000,30000000,3000000,1000000,3000000,3500000,20000000,4000000]}],                        {\"legend\":{\"bgcolor\":\"#F5F6F9\",\"font\":{\"color\":\"#4D5663\"}},\"paper_bgcolor\":\"#F5F6F9\",\"plot_bgcolor\":\"#F5F6F9\",\"template\":{\"data\":{\"bar\":[{\"error_x\":{\"color\":\"#2a3f5f\"},\"error_y\":{\"color\":\"#2a3f5f\"},\"marker\":{\"line\":{\"color\":\"#E5ECF6\",\"width\":0.5},\"pattern\":{\"fillmode\":\"overlay\",\"size\":10,\"solidity\":0.2}},\"type\":\"bar\"}],\"barpolar\":[{\"marker\":{\"line\":{\"color\":\"#E5ECF6\",\"width\":0.5},\"pattern\":{\"fillmode\":\"overlay\",\"size\":10,\"solidity\":0.2}},\"type\":\"barpolar\"}],\"carpet\":[{\"aaxis\":{\"endlinecolor\":\"#2a3f5f\",\"gridcolor\":\"white\",\"linecolor\":\"white\",\"minorgridcolor\":\"white\",\"startlinecolor\":\"#2a3f5f\"},\"baxis\":{\"endlinecolor\":\"#2a3f5f\",\"gridcolor\":\"white\",\"linecolor\":\"white\",\"minorgridcolor\":\"white\",\"startlinecolor\":\"#2a3f5f\"},\"type\":\"carpet\"}],\"choropleth\":[{\"colorbar\":{\"outlinewidth\":0,\"ticks\":\"\"},\"type\":\"choropleth\"}],\"contour\":[{\"colorbar\":{\"outlinewidth\":0,\"ticks\":\"\"},\"colorscale\":[[0.0,\"#0d0887\"],[0.1111111111111111,\"#46039f\"],[0.2222222222222222,\"#7201a8\"],[0.3333333333333333,\"#9c179e\"],[0.4444444444444444,\"#bd3786\"],[0.5555555555555556,\"#d8576b\"],[0.6666666666666666,\"#ed7953\"],[0.7777777777777778,\"#fb9f3a\"],[0.8888888888888888,\"#fdca26\"],[1.0,\"#f0f921\"]],\"type\":\"contour\"}],\"contourcarpet\":[{\"colorbar\":{\"outlinewidth\":0,\"ticks\":\"\"},\"type\":\"contourcarpet\"}],\"heatmap\":[{\"colorbar\":{\"outlinewidth\":0,\"ticks\":\"\"},\"colorscale\":[[0.0,\"#0d0887\"],[0.1111111111111111,\"#46039f\"],[0.2222222222222222,\"#7201a8\"],[0.3333333333333333,\"#9c179e\"],[0.4444444444444444,\"#bd3786\"],[0.5555555555555556,\"#d8576b\"],[0.6666666666666666,\"#ed7953\"],[0.7777777777777778,\"#fb9f3a\"],[0.8888888888888888,\"#fdca26\"],[1.0,\"#f0f921\"]],\"type\":\"heatmap\"}],\"heatmapgl\":[{\"colorbar\":{\"outlinewidth\":0,\"ticks\":\"\"},\"colorscale\":[[0.0,\"#0d0887\"],[0.1111111111111111,\"#46039f\"],[0.2222222222222222,\"#7201a8\"],[0.3333333333333333,\"#9c179e\"],[0.4444444444444444,\"#bd3786\"],[0.5555555555555556,\"#d8576b\"],[0.6666666666666666,\"#ed7953\"],[0.7777777777777778,\"#fb9f3a\"],[0.8888888888888888,\"#fdca26\"],[1.0,\"#f0f921\"]],\"type\":\"heatmapgl\"}],\"histogram\":[{\"marker\":{\"pattern\":{\"fillmode\":\"overlay\",\"size\":10,\"solidity\":0.2}},\"type\":\"histogram\"}],\"histogram2d\":[{\"colorbar\":{\"outlinewidth\":0,\"ticks\":\"\"},\"colorscale\":[[0.0,\"#0d0887\"],[0.1111111111111111,\"#46039f\"],[0.2222222222222222,\"#7201a8\"],[0.3333333333333333,\"#9c179e\"],[0.4444444444444444,\"#bd3786\"],[0.5555555555555556,\"#d8576b\"],[0.6666666666666666,\"#ed7953\"],[0.7777777777777778,\"#fb9f3a\"],[0.8888888888888888,\"#fdca26\"],[1.0,\"#f0f921\"]],\"type\":\"histogram2d\"}],\"histogram2dcontour\":[{\"colorbar\":{\"outlinewidth\":0,\"ticks\":\"\"},\"colorscale\":[[0.0,\"#0d0887\"],[0.1111111111111111,\"#46039f\"],[0.2222222222222222,\"#7201a8\"],[0.3333333333333333,\"#9c179e\"],[0.4444444444444444,\"#bd3786\"],[0.5555555555555556,\"#d8576b\"],[0.6666666666666666,\"#ed7953\"],[0.7777777777777778,\"#fb9f3a\"],[0.8888888888888888,\"#fdca26\"],[1.0,\"#f0f921\"]],\"type\":\"histogram2dcontour\"}],\"mesh3d\":[{\"colorbar\":{\"outlinewidth\":0,\"ticks\":\"\"},\"type\":\"mesh3d\"}],\"parcoords\":[{\"line\":{\"colorbar\":{\"outlinewidth\":0,\"ticks\":\"\"}},\"type\":\"parcoords\"}],\"pie\":[{\"automargin\":true,\"type\":\"pie\"}],\"scatter\":[{\"marker\":{\"colorbar\":{\"outlinewidth\":0,\"ticks\":\"\"}},\"type\":\"scatter\"}],\"scatter3d\":[{\"line\":{\"colorbar\":{\"outlinewidth\":0,\"ticks\":\"\"}},\"marker\":{\"colorbar\":{\"outlinewidth\":0,\"ticks\":\"\"}},\"type\":\"scatter3d\"}],\"scattercarpet\":[{\"marker\":{\"colorbar\":{\"outlinewidth\":0,\"ticks\":\"\"}},\"type\":\"scattercarpet\"}],\"scattergeo\":[{\"marker\":{\"colorbar\":{\"outlinewidth\":0,\"ticks\":\"\"}},\"type\":\"scattergeo\"}],\"scattergl\":[{\"marker\":{\"colorbar\":{\"outlinewidth\":0,\"ticks\":\"\"}},\"type\":\"scattergl\"}],\"scattermapbox\":[{\"marker\":{\"colorbar\":{\"outlinewidth\":0,\"ticks\":\"\"}},\"type\":\"scattermapbox\"}],\"scatterpolar\":[{\"marker\":{\"colorbar\":{\"outlinewidth\":0,\"ticks\":\"\"}},\"type\":\"scatterpolar\"}],\"scatterpolargl\":[{\"marker\":{\"colorbar\":{\"outlinewidth\":0,\"ticks\":\"\"}},\"type\":\"scatterpolargl\"}],\"scatterternary\":[{\"marker\":{\"colorbar\":{\"outlinewidth\":0,\"ticks\":\"\"}},\"type\":\"scatterternary\"}],\"surface\":[{\"colorbar\":{\"outlinewidth\":0,\"ticks\":\"\"},\"colorscale\":[[0.0,\"#0d0887\"],[0.1111111111111111,\"#46039f\"],[0.2222222222222222,\"#7201a8\"],[0.3333333333333333,\"#9c179e\"],[0.4444444444444444,\"#bd3786\"],[0.5555555555555556,\"#d8576b\"],[0.6666666666666666,\"#ed7953\"],[0.7777777777777778,\"#fb9f3a\"],[0.8888888888888888,\"#fdca26\"],[1.0,\"#f0f921\"]],\"type\":\"surface\"}],\"table\":[{\"cells\":{\"fill\":{\"color\":\"#EBF0F8\"},\"line\":{\"color\":\"white\"}},\"header\":{\"fill\":{\"color\":\"#C8D4E3\"},\"line\":{\"color\":\"white\"}},\"type\":\"table\"}]},\"layout\":{\"annotationdefaults\":{\"arrowcolor\":\"#2a3f5f\",\"arrowhead\":0,\"arrowwidth\":1},\"autotypenumbers\":\"strict\",\"coloraxis\":{\"colorbar\":{\"outlinewidth\":0,\"ticks\":\"\"}},\"colorscale\":{\"diverging\":[[0,\"#8e0152\"],[0.1,\"#c51b7d\"],[0.2,\"#de77ae\"],[0.3,\"#f1b6da\"],[0.4,\"#fde0ef\"],[0.5,\"#f7f7f7\"],[0.6,\"#e6f5d0\"],[0.7,\"#b8e186\"],[0.8,\"#7fbc41\"],[0.9,\"#4d9221\"],[1,\"#276419\"]],\"sequential\":[[0.0,\"#0d0887\"],[0.1111111111111111,\"#46039f\"],[0.2222222222222222,\"#7201a8\"],[0.3333333333333333,\"#9c179e\"],[0.4444444444444444,\"#bd3786\"],[0.5555555555555556,\"#d8576b\"],[0.6666666666666666,\"#ed7953\"],[0.7777777777777778,\"#fb9f3a\"],[0.8888888888888888,\"#fdca26\"],[1.0,\"#f0f921\"]],\"sequentialminus\":[[0.0,\"#0d0887\"],[0.1111111111111111,\"#46039f\"],[0.2222222222222222,\"#7201a8\"],[0.3333333333333333,\"#9c179e\"],[0.4444444444444444,\"#bd3786\"],[0.5555555555555556,\"#d8576b\"],[0.6666666666666666,\"#ed7953\"],[0.7777777777777778,\"#fb9f3a\"],[0.8888888888888888,\"#fdca26\"],[1.0,\"#f0f921\"]]},\"colorway\":[\"#636efa\",\"#EF553B\",\"#00cc96\",\"#ab63fa\",\"#FFA15A\",\"#19d3f3\",\"#FF6692\",\"#B6E880\",\"#FF97FF\",\"#FECB52\"],\"font\":{\"color\":\"#2a3f5f\"},\"geo\":{\"bgcolor\":\"white\",\"lakecolor\":\"white\",\"landcolor\":\"#E5ECF6\",\"showlakes\":true,\"showland\":true,\"subunitcolor\":\"white\"},\"hoverlabel\":{\"align\":\"left\"},\"hovermode\":\"closest\",\"mapbox\":{\"style\":\"light\"},\"paper_bgcolor\":\"white\",\"plot_bgcolor\":\"#E5ECF6\",\"polar\":{\"angularaxis\":{\"gridcolor\":\"white\",\"linecolor\":\"white\",\"ticks\":\"\"},\"bgcolor\":\"#E5ECF6\",\"radialaxis\":{\"gridcolor\":\"white\",\"linecolor\":\"white\",\"ticks\":\"\"}},\"scene\":{\"xaxis\":{\"backgroundcolor\":\"#E5ECF6\",\"gridcolor\":\"white\",\"gridwidth\":2,\"linecolor\":\"white\",\"showbackground\":true,\"ticks\":\"\",\"zerolinecolor\":\"white\"},\"yaxis\":{\"backgroundcolor\":\"#E5ECF6\",\"gridcolor\":\"white\",\"gridwidth\":2,\"linecolor\":\"white\",\"showbackground\":true,\"ticks\":\"\",\"zerolinecolor\":\"white\"},\"zaxis\":{\"backgroundcolor\":\"#E5ECF6\",\"gridcolor\":\"white\",\"gridwidth\":2,\"linecolor\":\"white\",\"showbackground\":true,\"ticks\":\"\",\"zerolinecolor\":\"white\"}},\"shapedefaults\":{\"line\":{\"color\":\"#2a3f5f\"}},\"ternary\":{\"aaxis\":{\"gridcolor\":\"white\",\"linecolor\":\"white\",\"ticks\":\"\"},\"baxis\":{\"gridcolor\":\"white\",\"linecolor\":\"white\",\"ticks\":\"\"},\"bgcolor\":\"#E5ECF6\",\"caxis\":{\"gridcolor\":\"white\",\"linecolor\":\"white\",\"ticks\":\"\"}},\"title\":{\"x\":0.05},\"xaxis\":{\"automargin\":true,\"gridcolor\":\"white\",\"linecolor\":\"white\",\"ticks\":\"\",\"title\":{\"standoff\":15},\"zerolinecolor\":\"white\",\"zerolinewidth\":2},\"yaxis\":{\"automargin\":true,\"gridcolor\":\"white\",\"linecolor\":\"white\",\"ticks\":\"\",\"title\":{\"standoff\":15},\"zerolinecolor\":\"white\",\"zerolinewidth\":2}}},\"title\":{\"font\":{\"color\":\"#4D5663\"},\"text\":\"Value Trends\"},\"xaxis\":{\"gridcolor\":\"#E1E5ED\",\"showgrid\":true,\"tickfont\":{\"color\":\"#4D5663\"},\"title\":{\"font\":{\"color\":\"#4D5663\"},\"text\":\"Date\"},\"zerolinecolor\":\"#E1E5ED\"},\"yaxis\":{\"gridcolor\":\"#E1E5ED\",\"showgrid\":true,\"tickfont\":{\"color\":\"#4D5663\"},\"title\":{\"font\":{\"color\":\"#4D5663\"},\"text\":\"Value\"},\"zerolinecolor\":\"#E1E5ED\"}},                        {\"showLink\": true, \"linkText\": \"Export to plot.ly\", \"plotlyServerURL\": \"https://plot.ly\", \"responsive\": true}                    ).then(function(){\n",
       "                            \n",
       "var gd = document.getElementById('4cf5def7-7890-45f4-8381-f87d1f12f0b1');\n",
       "var x = new MutationObserver(function (mutations, observer) {{\n",
       "        var display = window.getComputedStyle(gd).display;\n",
       "        if (!display || display === 'none') {{\n",
       "            console.log([gd, 'removed!']);\n",
       "            Plotly.purge(gd);\n",
       "            observer.disconnect();\n",
       "        }}\n",
       "}});\n",
       "\n",
       "// Listen for the removal of the full notebook cells\n",
       "var notebookContainer = gd.closest('#notebook-container');\n",
       "if (notebookContainer) {{\n",
       "    x.observe(notebookContainer, {childList: true});\n",
       "}}\n",
       "\n",
       "// Listen for the clearing of the current output cell\n",
       "var outputEl = gd.closest('.output');\n",
       "if (outputEl) {{\n",
       "    x.observe(outputEl, {childList: true});\n",
       "}}\n",
       "\n",
       "                        })                };                });            </script>        </div>"
      ]
     },
     "metadata": {},
     "output_type": "display_data"
    }
   ],
   "source": [
    "df2=df[['Value','Date']].set_index('Date')\n",
    "df2.iplot(\n",
    "    kind='bar',\n",
    "    xTitle='Date',\n",
    "    yTitle='Value',\n",
    "    title='Value Trends')"
   ]
  },
  {
   "cell_type": "code",
   "execution_count": 8,
   "id": "1414e691",
   "metadata": {},
   "outputs": [
    {
     "data": {
      "text/html": [
       "<div>\n",
       "<style scoped>\n",
       "    .dataframe tbody tr th:only-of-type {\n",
       "        vertical-align: middle;\n",
       "    }\n",
       "\n",
       "    .dataframe tbody tr th {\n",
       "        vertical-align: top;\n",
       "    }\n",
       "\n",
       "    .dataframe thead th {\n",
       "        text-align: right;\n",
       "    }\n",
       "</style>\n",
       "<table border=\"1\" class=\"dataframe\">\n",
       "  <thead>\n",
       "    <tr style=\"text-align: right;\">\n",
       "      <th></th>\n",
       "      <th>Block</th>\n",
       "      <th>Latitude</th>\n",
       "      <th>Longitude</th>\n",
       "      <th>Acreage</th>\n",
       "      <th>Value</th>\n",
       "    </tr>\n",
       "  </thead>\n",
       "  <tbody>\n",
       "    <tr>\n",
       "      <th>count</th>\n",
       "      <td>170.000000</td>\n",
       "      <td>170.000000</td>\n",
       "      <td>170.000000</td>\n",
       "      <td>170.000000</td>\n",
       "      <td>1.700000e+02</td>\n",
       "    </tr>\n",
       "    <tr>\n",
       "      <th>mean</th>\n",
       "      <td>179.429412</td>\n",
       "      <td>0.422820</td>\n",
       "      <td>32.374740</td>\n",
       "      <td>1.609076</td>\n",
       "      <td>1.877202e+07</td>\n",
       "    </tr>\n",
       "    <tr>\n",
       "      <th>std</th>\n",
       "      <td>45.936002</td>\n",
       "      <td>0.028787</td>\n",
       "      <td>0.035027</td>\n",
       "      <td>4.061750</td>\n",
       "      <td>4.021343e+07</td>\n",
       "    </tr>\n",
       "    <tr>\n",
       "      <th>min</th>\n",
       "      <td>45.000000</td>\n",
       "      <td>0.361499</td>\n",
       "      <td>32.300292</td>\n",
       "      <td>0.010000</td>\n",
       "      <td>2.000000e+05</td>\n",
       "    </tr>\n",
       "    <tr>\n",
       "      <th>25%</th>\n",
       "      <td>143.000000</td>\n",
       "      <td>0.407537</td>\n",
       "      <td>32.350610</td>\n",
       "      <td>0.116000</td>\n",
       "      <td>5.000000e+06</td>\n",
       "    </tr>\n",
       "    <tr>\n",
       "      <th>50%</th>\n",
       "      <td>192.000000</td>\n",
       "      <td>0.422819</td>\n",
       "      <td>32.384757</td>\n",
       "      <td>0.976000</td>\n",
       "      <td>8.250000e+06</td>\n",
       "    </tr>\n",
       "    <tr>\n",
       "      <th>75%</th>\n",
       "      <td>214.000000</td>\n",
       "      <td>0.437306</td>\n",
       "      <td>32.395868</td>\n",
       "      <td>1.000000</td>\n",
       "      <td>1.775000e+07</td>\n",
       "    </tr>\n",
       "    <tr>\n",
       "      <th>max</th>\n",
       "      <td>237.000000</td>\n",
       "      <td>0.491285</td>\n",
       "      <td>32.448330</td>\n",
       "      <td>32.175000</td>\n",
       "      <td>3.300000e+08</td>\n",
       "    </tr>\n",
       "  </tbody>\n",
       "</table>\n",
       "</div>"
      ],
      "text/plain": [
       "            Block    Latitude   Longitude     Acreage         Value\n",
       "count  170.000000  170.000000  170.000000  170.000000  1.700000e+02\n",
       "mean   179.429412    0.422820   32.374740    1.609076  1.877202e+07\n",
       "std     45.936002    0.028787    0.035027    4.061750  4.021343e+07\n",
       "min     45.000000    0.361499   32.300292    0.010000  2.000000e+05\n",
       "25%    143.000000    0.407537   32.350610    0.116000  5.000000e+06\n",
       "50%    192.000000    0.422819   32.384757    0.976000  8.250000e+06\n",
       "75%    214.000000    0.437306   32.395868    1.000000  1.775000e+07\n",
       "max    237.000000    0.491285   32.448330   32.175000  3.300000e+08"
      ]
     },
     "execution_count": 8,
     "metadata": {},
     "output_type": "execute_result"
    }
   ],
   "source": [
    "#Descriptive Statistics\n",
    "df.describe()"
   ]
  },
  {
   "cell_type": "code",
   "execution_count": 4,
   "id": "0b9f9cfd",
   "metadata": {},
   "outputs": [],
   "source": [
    "df=pd.DataFrame(df)\n",
    "df['Location']=tuple(zip(*df[['Latitude','Longitude']].values.T))"
   ]
  },
  {
   "cell_type": "code",
   "execution_count": 5,
   "id": "50ea3905",
   "metadata": {},
   "outputs": [],
   "source": [
    "#Calculating distances from Trading centres\n",
    "import geopy.distance\n",
    "#1. Nampunge Trading Centre\n",
    "Nampunge_TC=(0.4778243,32.332673)\n",
    "df['dist_Nampunge_TC']=df.apply(lambda row: geopy.distance.distance(Nampunge_TC, (row.Location)).kilometers, axis=1)\n",
    "#2.Lugombe Trading Centre\n",
    "Lugombe_TC=(0.45,32.3499985)\n",
    "df['dist_Lugombe_TC']=df.apply(lambda row: geopy.distance.distance(Lugombe_TC, (row.Location)).kilometers, axis=1)\n",
    "#3.Bulonda Trading Centre\n",
    "Bulonda_TC=(0.4333333,32.3666649)\n",
    "df['dist_Bulonda_TC']=df.apply(lambda row: geopy.distance.distance(Bulonda_TC, (row.Location)).kilometers, axis=1)\n",
    "#4.Lugeye Trading Centre\n",
    "Lugeye_TC=(0.4456123,32.3971581)\n",
    "df['dist_Lugeye_TC']=df.apply(lambda row: geopy.distance.distance(Lugeye_TC, (row.Location)).kilometers, axis=1)\n",
    "#5.Kakiri_TC\n",
    "Kakiri_TC=(0.4190446,32.3915063)\n",
    "df['dist_Kakiri_TC']=df.apply(lambda row: geopy.distance.distance(Kakiri_TC, (row.Location)).kilometers, axis=1)\n",
    "#6.Bukalango Trading Centre\n",
    "Bukalango_TC=(0.4198286,32.4120016)\n",
    "df['dist_Bukalango_TC']=df.apply(lambda row: geopy.distance.distance(Bukalango_TC, (row.Location)).kilometers, axis=1)\n",
    "#7.Kaliti Trading Centre\n",
    "Kaliti_TC=(0.4333333,32.416667)\n",
    "df['dist_Kaliti_TC']=df.apply(lambda row: geopy.distance.distance(Kaliti_TC, (row.Location)).kilometers, axis=1)\n",
    "#8.Bulondo Trading Centre\n",
    "Bulondo_TC=(0.45,32.433333)\n",
    "df['dist_Bulondo_TC']=df.apply(lambda row: geopy.distance.distance(Bulondo_TC, (row.Location)).kilometers, axis=1)\n",
    "#9.Luwunga Trading Centre\n",
    "Luwunga_TC=(0.3957186,32.42285)\n",
    "df['dist_Luwunga_TC']=df.apply(lambda row: geopy.distance.distance(Luwunga_TC, (row.Location)).kilometers, axis=1)\n",
    "#10.Nonve_TC\n",
    "Nonve_TC=(0.4,32.3666649)\n",
    "df['dist_Nonve_TC']=df.apply(lambda row: geopy.distance.distance(Nonve_TC, (row.Location)).kilometers, axis=1)\n",
    "#11. Kagoge Trading Centre\n",
    "Kagoge_TC=(0.3833333,32.4166679)\n",
    "df['dist_Kagoge_TC']=df.apply(lambda row: geopy.distance.distance(Kagoge_TC, (row.Location)).kilometers, axis=1)\n",
    "#12.Lukwanga Trading Centre\n",
    "Lukwanga_TC=(0.3622423,32.4406763)\n",
    "df['dist_Lukwanga_TC']=df.apply(lambda row: geopy.distance.distance(Lukwanga_TC, (row.Location)).kilometers, axis=1)\n",
    "#13.Sentema Trading Centre\n",
    "Sentema_TC=(0.3822177,32.4314894)\n",
    "df['dist_Sentema_TC']=df.apply(lambda row: geopy.distance.distance(Sentema_TC, (row.Location)).kilometers, axis=1)\n",
    "#14.Kawalira Trading Centre\n",
    "Kawalira_TC=(0.3666667,32.3833351)\n",
    "df['dist_Kawalira_TC']=df.apply(lambda row: geopy.distance.distance(Kawalira_TC, (row.Location)).kilometers, axis=1)\n"
   ]
  },
  {
   "cell_type": "code",
   "execution_count": 6,
   "id": "982073b7",
   "metadata": {},
   "outputs": [],
   "source": [
    "#Others\n",
    "#15.Kakiri_Police_Station\n",
    "Kakiri_Police_Station=(0.4198538,32.3880762)\n",
    "df['dist_Kakiri_Police_Station']=df.apply(lambda row: geopy.distance.distance(Kakiri_Police_Station, (row.Location)).kilometers, axis=1)\n",
    "#16.Advance Mircofinance\n",
    "Advance_Microfinance=(0.4198085,32.3935781)\n",
    "df['dist_Advance_Microfinance']=df.apply(lambda row: geopy.distance.distance(Advance_Microfinance, (row.Location)).kilometers, axis=1)"
   ]
  },
  {
   "cell_type": "code",
   "execution_count": 7,
   "id": "4b68751f",
   "metadata": {},
   "outputs": [],
   "source": [
    "#Calculating distances from schools\n",
    "#17.Nampunge Community High School\n",
    "NampungeComm_HS= (0.4758774,32.3246875)\n",
    "df['dist_NampungeComm_HS']=df.apply(lambda row: geopy.distance.distance(NampungeComm_HS, (row.Location)).kilometers, axis=1)\n",
    "#18.Kikandwa Community Sec School\n",
    "Kikandwa_CommSec_sch=(0.4464787,32.3605245)\n",
    "df['dist_Kikandwa_CommSec_sch']=df.apply(lambda row: geopy.distance.distance(Kikandwa_CommSec_sch, (row.Location)).kilometers, axis=1)\n",
    "#19.KaKiri College Day and Boarding School\n",
    "KakiriCol_sch=(0.4199497,32.3974968)\n",
    "df['dist_KakiriCol_sch']=df.apply(lambda row: geopy.distance.distance(KakiriCol_sch, (row.Location)).kilometers, axis=1)\n",
    "#20.St. Charles Lwanga International\n",
    "StLwanga_Int= (0.4291811,32.4014368)\n",
    "df['dist_StLwanga_Int']=df.apply(lambda row: geopy.distance.distance(StLwanga_Int, (row.Location)).kilometers, axis=1)\n",
    "#21.Springs Alive Primary School\n",
    "SpringsPri_sch= (0.4308493,32.3991181)\n",
    "df['dist_SpringsPri_sch']=df.apply(lambda row: geopy.distance.distance(SpringsPri_sch, (row.Location)).kilometers, axis=1)\n",
    "#22.Wakiso Moslem Sec School\n",
    "WakisoMoslem_sch=(0.3979722,32.4790135)\n",
    "df['dist_WakisoMoslem_sch']=df.apply(lambda row: geopy.distance.distance(WakisoMoslem_sch, (row.Location)).kilometers, axis=1)\n",
    "#23.Emirates College School\n",
    "EmiratesCollege_sch=(0.4069212,32.4351463)\n",
    "df['dist_EmiratesCollege_sch']=df.apply(lambda row: geopy.distance.distance(EmiratesCollege_sch, (row.Location)).kilometers, axis=1)\n",
    "#24.Sentema COU Pri School\n",
    "SentemaCOU_sch= (0.3874126,32.4207187)\n",
    "df['dist_SentemaCOU_sch']=df.apply(lambda row: geopy.distance.distance(SentemaCOU_sch, (row.Location)).kilometers, axis=1)\n",
    "#25.Kabagezi Pri School\n",
    "KabageziPri_sch= (0.3879906,32.3713234)\n",
    "df['dist_KabageziPri_sch']=df.apply(lambda row: geopy.distance.distance(KabageziPri_sch, (row.Location)).kilometers, axis=1)\n"
   ]
  },
  {
   "cell_type": "code",
   "execution_count": 8,
   "id": "74d08341",
   "metadata": {},
   "outputs": [],
   "source": [
    "#26.Distance from the central point\n",
    "Central_p= ( 0.4186577,32.4086365)\n",
    "df['dist_Central_p']=df.apply(lambda row: geopy.distance.distance(Central_p, (row.Location)).kilometers, axis=1)"
   ]
  },
  {
   "cell_type": "code",
   "execution_count": 9,
   "id": "675f4b94",
   "metadata": {},
   "outputs": [],
   "source": [
    "#Calculating time between the transaction date and now \n",
    "import datetime\n",
    "from datetime import datetime\n",
    "from dateutil.relativedelta import relativedelta\n",
    "from datetime import date\n",
    "\n",
    "df['Date'] = pd.to_datetime(df['Date'])\n",
    "\n",
    "now=datetime.now()\n",
    "df['years']=(now- df['Date'])\n",
    "df['years']=df['years']/np.timedelta64(1,'Y')"
   ]
  },
  {
   "cell_type": "code",
   "execution_count": 10,
   "id": "2601e13c",
   "metadata": {},
   "outputs": [],
   "source": [
    "#Dropping the unecessary columns\n",
    "df.drop(['Tenure','County', 'Date',#'Latitude',\n",
    "         #'Longitude',\n",
    "         'Location','Village','Block'],axis=1, inplace=True)"
   ]
  },
  {
   "cell_type": "code",
   "execution_count": 11,
   "id": "cce2956a",
   "metadata": {},
   "outputs": [],
   "source": [
    "#one hot encoding\n",
    "df=pd.get_dummies(df, prefix=['Use'], drop_first=False)"
   ]
  },
  {
   "cell_type": "code",
   "execution_count": 12,
   "id": "0d60ec4e",
   "metadata": {},
   "outputs": [
    {
     "data": {
      "text/html": [
       "<div>\n",
       "<style scoped>\n",
       "    .dataframe tbody tr th:only-of-type {\n",
       "        vertical-align: middle;\n",
       "    }\n",
       "\n",
       "    .dataframe tbody tr th {\n",
       "        vertical-align: top;\n",
       "    }\n",
       "\n",
       "    .dataframe thead th {\n",
       "        text-align: right;\n",
       "    }\n",
       "</style>\n",
       "<table border=\"1\" class=\"dataframe\">\n",
       "  <thead>\n",
       "    <tr style=\"text-align: right;\">\n",
       "      <th></th>\n",
       "      <th>Latitude</th>\n",
       "      <th>Longitude</th>\n",
       "      <th>Acreage</th>\n",
       "      <th>Value</th>\n",
       "      <th>dist_Nampunge_TC</th>\n",
       "      <th>dist_Lugombe_TC</th>\n",
       "      <th>dist_Bulonda_TC</th>\n",
       "      <th>dist_Lugeye_TC</th>\n",
       "      <th>dist_Kakiri_TC</th>\n",
       "      <th>dist_Bukalango_TC</th>\n",
       "      <th>dist_Kaliti_TC</th>\n",
       "      <th>dist_Bulondo_TC</th>\n",
       "      <th>dist_Luwunga_TC</th>\n",
       "      <th>dist_Nonve_TC</th>\n",
       "      <th>dist_Kagoge_TC</th>\n",
       "      <th>...</th>\n",
       "      <th>dist_Kikandwa_CommSec_sch</th>\n",
       "      <th>dist_KakiriCol_sch</th>\n",
       "      <th>dist_StLwanga_Int</th>\n",
       "      <th>dist_SpringsPri_sch</th>\n",
       "      <th>dist_WakisoMoslem_sch</th>\n",
       "      <th>dist_EmiratesCollege_sch</th>\n",
       "      <th>dist_SentemaCOU_sch</th>\n",
       "      <th>dist_KabageziPri_sch</th>\n",
       "      <th>dist_Central_p</th>\n",
       "      <th>years</th>\n",
       "      <th>Use_Agric</th>\n",
       "      <th>Use_Comm</th>\n",
       "      <th>Use_Inst</th>\n",
       "      <th>Use_Res</th>\n",
       "      <th>Use_Res_Agric</th>\n",
       "    </tr>\n",
       "  </thead>\n",
       "  <tbody>\n",
       "    <tr>\n",
       "      <th>0</th>\n",
       "      <td>0.424860</td>\n",
       "      <td>32.386504</td>\n",
       "      <td>1.000</td>\n",
       "      <td>10000000</td>\n",
       "      <td>8.378913</td>\n",
       "      <td>4.923523</td>\n",
       "      <td>2.398967</td>\n",
       "      <td>2.583069</td>\n",
       "      <td>0.850589</td>\n",
       "      <td>2.892303</td>\n",
       "      <td>3.485917</td>\n",
       "      <td>5.907732</td>\n",
       "      <td>5.172260</td>\n",
       "      <td>3.526079</td>\n",
       "      <td>5.688457</td>\n",
       "      <td>...</td>\n",
       "      <td>3.752055</td>\n",
       "      <td>1.338706</td>\n",
       "      <td>1.729582</td>\n",
       "      <td>1.552512</td>\n",
       "      <td>10.718425</td>\n",
       "      <td>5.766564</td>\n",
       "      <td>5.625934</td>\n",
       "      <td>4.413121</td>\n",
       "      <td>2.557370</td>\n",
       "      <td>5.151588</td>\n",
       "      <td>1</td>\n",
       "      <td>0</td>\n",
       "      <td>0</td>\n",
       "      <td>0</td>\n",
       "      <td>0</td>\n",
       "    </tr>\n",
       "    <tr>\n",
       "      <th>1</th>\n",
       "      <td>0.428955</td>\n",
       "      <td>32.385940</td>\n",
       "      <td>1.000</td>\n",
       "      <td>20000000</td>\n",
       "      <td>8.022415</td>\n",
       "      <td>4.628445</td>\n",
       "      <td>2.199622</td>\n",
       "      <td>2.225261</td>\n",
       "      <td>1.258853</td>\n",
       "      <td>3.071543</td>\n",
       "      <td>3.454463</td>\n",
       "      <td>5.765995</td>\n",
       "      <td>5.512463</td>\n",
       "      <td>3.854176</td>\n",
       "      <td>6.094874</td>\n",
       "      <td>...</td>\n",
       "      <td>3.429141</td>\n",
       "      <td>1.626768</td>\n",
       "      <td>1.725181</td>\n",
       "      <td>1.481771</td>\n",
       "      <td>10.912302</td>\n",
       "      <td>5.994838</td>\n",
       "      <td>6.007340</td>\n",
       "      <td>4.812985</td>\n",
       "      <td>2.771166</td>\n",
       "      <td>4.089280</td>\n",
       "      <td>1</td>\n",
       "      <td>0</td>\n",
       "      <td>0</td>\n",
       "      <td>0</td>\n",
       "      <td>0</td>\n",
       "    </tr>\n",
       "    <tr>\n",
       "      <th>2</th>\n",
       "      <td>0.423859</td>\n",
       "      <td>32.384393</td>\n",
       "      <td>0.101</td>\n",
       "      <td>4000000</td>\n",
       "      <td>8.291729</td>\n",
       "      <td>4.797245</td>\n",
       "      <td>2.234239</td>\n",
       "      <td>2.793678</td>\n",
       "      <td>0.954167</td>\n",
       "      <td>3.105442</td>\n",
       "      <td>3.742236</td>\n",
       "      <td>6.167134</td>\n",
       "      <td>5.292308</td>\n",
       "      <td>3.294657</td>\n",
       "      <td>5.743558</td>\n",
       "      <td>...</td>\n",
       "      <td>3.648967</td>\n",
       "      <td>1.521383</td>\n",
       "      <td>1.986411</td>\n",
       "      <td>1.812226</td>\n",
       "      <td>10.914866</td>\n",
       "      <td>5.952040</td>\n",
       "      <td>5.709005</td>\n",
       "      <td>4.224591</td>\n",
       "      <td>2.759313</td>\n",
       "      <td>5.148850</td>\n",
       "      <td>0</td>\n",
       "      <td>0</td>\n",
       "      <td>0</td>\n",
       "      <td>1</td>\n",
       "      <td>0</td>\n",
       "    </tr>\n",
       "    <tr>\n",
       "      <th>3</th>\n",
       "      <td>0.429590</td>\n",
       "      <td>32.385404</td>\n",
       "      <td>0.091</td>\n",
       "      <td>15000000</td>\n",
       "      <td>7.931046</td>\n",
       "      <td>4.541679</td>\n",
       "      <td>2.126682</td>\n",
       "      <td>2.202452</td>\n",
       "      <td>1.349426</td>\n",
       "      <td>3.151309</td>\n",
       "      <td>3.504581</td>\n",
       "      <td>5.792946</td>\n",
       "      <td>5.603742</td>\n",
       "      <td>3.880262</td>\n",
       "      <td>6.186457</td>\n",
       "      <td>...</td>\n",
       "      <td>3.340338</td>\n",
       "      <td>1.717020</td>\n",
       "      <td>1.785248</td>\n",
       "      <td>1.532909</td>\n",
       "      <td>10.991098</td>\n",
       "      <td>6.078016</td>\n",
       "      <td>6.099460</td>\n",
       "      <td>4.859512</td>\n",
       "      <td>2.854680</td>\n",
       "      <td>3.021497</td>\n",
       "      <td>0</td>\n",
       "      <td>0</td>\n",
       "      <td>0</td>\n",
       "      <td>1</td>\n",
       "      <td>0</td>\n",
       "    </tr>\n",
       "    <tr>\n",
       "      <th>4</th>\n",
       "      <td>0.422597</td>\n",
       "      <td>32.385754</td>\n",
       "      <td>0.116</td>\n",
       "      <td>10000000</td>\n",
       "      <td>8.497439</td>\n",
       "      <td>5.002359</td>\n",
       "      <td>2.434120</td>\n",
       "      <td>2.843950</td>\n",
       "      <td>0.751153</td>\n",
       "      <td>2.937731</td>\n",
       "      <td>3.640110</td>\n",
       "      <td>6.101796</td>\n",
       "      <td>5.087688</td>\n",
       "      <td>3.280043</td>\n",
       "      <td>5.539916</td>\n",
       "      <td>...</td>\n",
       "      <td>3.855014</td>\n",
       "      <td>1.339489</td>\n",
       "      <td>1.891441</td>\n",
       "      <td>1.745171</td>\n",
       "      <td>10.732427</td>\n",
       "      <td>5.764881</td>\n",
       "      <td>5.503111</td>\n",
       "      <td>4.150073</td>\n",
       "      <td>2.584123</td>\n",
       "      <td>3.169343</td>\n",
       "      <td>0</td>\n",
       "      <td>0</td>\n",
       "      <td>0</td>\n",
       "      <td>1</td>\n",
       "      <td>0</td>\n",
       "    </tr>\n",
       "  </tbody>\n",
       "</table>\n",
       "<p>5 rows × 36 columns</p>\n",
       "</div>"
      ],
      "text/plain": [
       "   Latitude  Longitude  Acreage     Value  dist_Nampunge_TC  dist_Lugombe_TC  \\\n",
       "0  0.424860  32.386504    1.000  10000000          8.378913         4.923523   \n",
       "1  0.428955  32.385940    1.000  20000000          8.022415         4.628445   \n",
       "2  0.423859  32.384393    0.101   4000000          8.291729         4.797245   \n",
       "3  0.429590  32.385404    0.091  15000000          7.931046         4.541679   \n",
       "4  0.422597  32.385754    0.116  10000000          8.497439         5.002359   \n",
       "\n",
       "   dist_Bulonda_TC  dist_Lugeye_TC  dist_Kakiri_TC  dist_Bukalango_TC  \\\n",
       "0         2.398967        2.583069        0.850589           2.892303   \n",
       "1         2.199622        2.225261        1.258853           3.071543   \n",
       "2         2.234239        2.793678        0.954167           3.105442   \n",
       "3         2.126682        2.202452        1.349426           3.151309   \n",
       "4         2.434120        2.843950        0.751153           2.937731   \n",
       "\n",
       "   dist_Kaliti_TC  dist_Bulondo_TC  dist_Luwunga_TC  dist_Nonve_TC  \\\n",
       "0        3.485917         5.907732         5.172260       3.526079   \n",
       "1        3.454463         5.765995         5.512463       3.854176   \n",
       "2        3.742236         6.167134         5.292308       3.294657   \n",
       "3        3.504581         5.792946         5.603742       3.880262   \n",
       "4        3.640110         6.101796         5.087688       3.280043   \n",
       "\n",
       "   dist_Kagoge_TC  ...  dist_Kikandwa_CommSec_sch  dist_KakiriCol_sch  \\\n",
       "0        5.688457  ...                   3.752055            1.338706   \n",
       "1        6.094874  ...                   3.429141            1.626768   \n",
       "2        5.743558  ...                   3.648967            1.521383   \n",
       "3        6.186457  ...                   3.340338            1.717020   \n",
       "4        5.539916  ...                   3.855014            1.339489   \n",
       "\n",
       "   dist_StLwanga_Int  dist_SpringsPri_sch  dist_WakisoMoslem_sch  \\\n",
       "0           1.729582             1.552512              10.718425   \n",
       "1           1.725181             1.481771              10.912302   \n",
       "2           1.986411             1.812226              10.914866   \n",
       "3           1.785248             1.532909              10.991098   \n",
       "4           1.891441             1.745171              10.732427   \n",
       "\n",
       "   dist_EmiratesCollege_sch  dist_SentemaCOU_sch  dist_KabageziPri_sch  \\\n",
       "0                  5.766564             5.625934              4.413121   \n",
       "1                  5.994838             6.007340              4.812985   \n",
       "2                  5.952040             5.709005              4.224591   \n",
       "3                  6.078016             6.099460              4.859512   \n",
       "4                  5.764881             5.503111              4.150073   \n",
       "\n",
       "   dist_Central_p     years  Use_Agric  Use_Comm  Use_Inst  Use_Res  \\\n",
       "0        2.557370  5.151588          1         0         0        0   \n",
       "1        2.771166  4.089280          1         0         0        0   \n",
       "2        2.759313  5.148850          0         0         0        1   \n",
       "3        2.854680  3.021497          0         0         0        1   \n",
       "4        2.584123  3.169343          0         0         0        1   \n",
       "\n",
       "   Use_Res_Agric  \n",
       "0              0  \n",
       "1              0  \n",
       "2              0  \n",
       "3              0  \n",
       "4              0  \n",
       "\n",
       "[5 rows x 36 columns]"
      ]
     },
     "execution_count": 12,
     "metadata": {},
     "output_type": "execute_result"
    }
   ],
   "source": [
    "df.head()"
   ]
  },
  {
   "cell_type": "code",
   "execution_count": 13,
   "id": "fd5a41f0",
   "metadata": {},
   "outputs": [],
   "source": [
    "for var in ['Value']:\n",
    "    df[var]=np.log(df[var])"
   ]
  },
  {
   "cell_type": "code",
   "execution_count": 14,
   "id": "c2559e54",
   "metadata": {},
   "outputs": [
    {
     "name": "stdout",
     "output_type": "stream",
     "text": [
      "Training data is (153, 36)\n",
      "Training Target is (153,)\n",
      "Test data is (17, 36)\n",
      "Test target is (17,)\n"
     ]
    }
   ],
   "source": [
    "#Splitting into train and test sets (dont forget to seed)\n",
    "#Standard imports\n",
    "from sklearn.model_selection import train_test_split\n",
    "\n",
    "#splitting into train and test sets\n",
    "X_train, X_test, y_train, y_test= train_test_split(df, df.Value,\n",
    "                                                  test_size=0.1,\n",
    "                                                  random_state=0)\n",
    "\n",
    "#Print the different sets that have been split\n",
    "print('Training data is',X_train.shape)\n",
    "print(\"Training Target is\",y_train.shape)\n",
    "print('Test data is',X_test.shape)\n",
    "print('Test target is',y_test.shape)"
   ]
  },
  {
   "cell_type": "code",
   "execution_count": 46,
   "id": "869f91ab",
   "metadata": {},
   "outputs": [
    {
     "name": "stdout",
     "output_type": "stream",
     "text": [
      "Index(['Acreage', 'Value', 'dist_Nampunge_TC', 'dist_Lugombe_TC',\n",
      "       'dist_Bulonda_TC', 'dist_Lugeye_TC', 'dist_Kakiri_TC',\n",
      "       'dist_Bukalango_TC', 'dist_Kaliti_TC', 'dist_Bulondo_TC',\n",
      "       'dist_Luwunga_TC', 'dist_Nonve_TC', 'dist_Kagoge_TC',\n",
      "       'dist_Lukwanga_TC', 'dist_Sentema_TC', 'dist_Kawalira_TC',\n",
      "       'dist_Kakiri_Police_Station', 'dist_Advance_Microfinance',\n",
      "       'dist_NampungeComm_HS', 'dist_Kikandwa_CommSec_sch',\n",
      "       'dist_KakiriCol_sch', 'dist_StLwanga_Int', 'dist_SpringsPri_sch',\n",
      "       'dist_WakisoMoslem_sch', 'dist_EmiratesCollege_sch',\n",
      "       'dist_SentemaCOU_sch', 'dist_KabageziPri_sch', 'dist_Central_p',\n",
      "       'years', 'Use_Agric', 'Use_Comm', 'Use_Inst', 'Use_Res',\n",
      "       'Use_Res_Agric'],\n",
      "      dtype='object')\n"
     ]
    }
   ],
   "source": [
    "print(df.columns)"
   ]
  },
  {
   "cell_type": "code",
   "execution_count": 15,
   "id": "26e36b32",
   "metadata": {},
   "outputs": [],
   "source": [
    "#Fitting the model using the statsmodel library from python; this is because it integrates the element of spatial heterogeneity.\n",
    "variable_names = [ \n",
    "    'Acreage',  \n",
    "    'dist_Nampunge_TC', \n",
    "    'dist_Lugombe_TC', \n",
    "    'dist_Bulonda_TC',\n",
    "    'dist_Lugeye_TC',\n",
    "    'dist_Kakiri_TC', \n",
    "    'dist_Bukalango_TC', \n",
    "    'dist_Kaliti_TC',\n",
    "    'dist_Bulondo_TC', \n",
    "    'dist_Luwunga_TC', \n",
    "    'dist_Nonve_TC',\n",
    "    'dist_Kagoge_TC', \n",
    "    'dist_Lukwanga_TC',\n",
    "    'dist_Sentema_TC', \n",
    "    'dist_Kawalira_TC', \n",
    "    'dist_Kakiri_Police_Station',\n",
    "    'dist_Advance_Microfinance', \n",
    "    'dist_NampungeComm_HS', \n",
    "    'dist_Kikandwa_CommSec_sch',\n",
    "    'dist_KakiriCol_sch',\n",
    "    'dist_StLwanga_Int', \n",
    "    'dist_SpringsPri_sch', \n",
    "    'dist_WakisoMoslem_sch',\n",
    "    'dist_EmiratesCollege_sch',\n",
    "    'dist_SentemaCOU_sch',\n",
    "    'dist_KabageziPri_sch', \n",
    "    'dist_Central_p', \n",
    "    'years',\n",
    "    'Use_Res',\n",
    "    'Use_Res_Agric',\n",
    "    'Use_Comm',\n",
    "    'Use_Agric',\n",
    "    'Use_Inst'\n",
    "]"
   ]
  },
  {
   "cell_type": "code",
   "execution_count": 16,
   "id": "28521895",
   "metadata": {},
   "outputs": [],
   "source": [
    "model = sm.OLS.from_formula('Value ~ ' + ' + '.join(variable_names), X_train)\n",
    "result = model.fit()"
   ]
  },
  {
   "cell_type": "code",
   "execution_count": 17,
   "id": "36060490",
   "metadata": {},
   "outputs": [
    {
     "name": "stdout",
     "output_type": "stream",
     "text": [
      "                            OLS Regression Results                            \n",
      "==============================================================================\n",
      "Dep. Variable:                  Value   R-squared:                       0.533\n",
      "Model:                            OLS   Adj. R-squared:                  0.414\n",
      "Method:                 Least Squares   F-statistic:                     4.462\n",
      "Date:                Sat, 21 Aug 2021   Prob (F-statistic):           1.48e-09\n",
      "Time:                        13:55:57   Log-Likelihood:                -175.62\n",
      "No. Observations:                 153   AIC:                             415.2\n",
      "Df Residuals:                     121   BIC:                             512.2\n",
      "Df Model:                          31                                         \n",
      "Covariance Type:            nonrobust                                         \n",
      "==============================================================================================\n",
      "                                 coef    std err          t      P>|t|      [0.025      0.975]\n",
      "----------------------------------------------------------------------------------------------\n",
      "Intercept                     12.2020      2.587      4.717      0.000       7.080      17.324\n",
      "Acreage                        0.1664      0.021      8.049      0.000       0.125       0.207\n",
      "dist_Nampunge_TC               0.3353      0.499      0.672      0.503      -0.652       1.323\n",
      "dist_Lugombe_TC                0.9175      0.554      1.655      0.101      -0.180       2.015\n",
      "dist_Bulonda_TC                0.2655      0.620      0.428      0.669      -0.963       1.494\n",
      "dist_Lugeye_TC                 0.3062      0.406      0.755      0.452      -0.497       1.109\n",
      "dist_Kakiri_TC                 7.5450      6.434      1.173      0.243      -5.193      20.283\n",
      "dist_Bukalango_TC              8.1904      6.066      1.350      0.179      -3.819      20.200\n",
      "dist_Kaliti_TC                 0.1532      0.956      0.160      0.873      -1.740       2.046\n",
      "dist_Bulondo_TC               -0.0176      0.620     -0.028      0.977      -1.244       1.209\n",
      "dist_Luwunga_TC               -0.9434      2.104     -0.448      0.655      -5.108       3.221\n",
      "dist_Nonve_TC                 -0.5433      0.748     -0.727      0.469      -2.024       0.937\n",
      "dist_Kagoge_TC                -2.7142      2.104     -1.290      0.199      -6.879       1.451\n",
      "dist_Lukwanga_TC               2.4382      1.097      2.223      0.028       0.267       4.610\n",
      "dist_Sentema_TC               -2.7455      1.213     -2.263      0.025      -5.147      -0.344\n",
      "dist_Kawalira_TC              -0.3871      0.373     -1.038      0.301      -1.125       0.351\n",
      "dist_Kakiri_Police_Station    -0.5413      3.158     -0.171      0.864      -6.794       5.711\n",
      "dist_Advance_Microfinance    -16.1817      8.852     -1.828      0.070     -33.707       1.344\n",
      "dist_NampungeComm_HS          -0.4633      0.517     -0.896      0.372      -1.487       0.561\n",
      "dist_Kikandwa_CommSec_sch     -0.9859      0.779     -1.265      0.208      -2.529       0.557\n",
      "dist_KakiriCol_sch            13.1008      7.094      1.847      0.067      -0.943      27.144\n",
      "dist_StLwanga_Int             -4.4202      4.869     -0.908      0.366     -14.059       5.219\n",
      "dist_SpringsPri_sch            2.9461      3.738      0.788      0.432      -4.455      10.347\n",
      "dist_WakisoMoslem_sch         -0.7172      0.684     -1.048      0.297      -2.072       0.637\n",
      "dist_EmiratesCollege_sch       0.2922      1.023      0.286      0.776      -1.733       2.317\n",
      "dist_SentemaCOU_sch            4.2191      3.219      1.310      0.193      -2.155      10.593\n",
      "dist_KabageziPri_sch           0.7871      0.813      0.968      0.335      -0.823       2.397\n",
      "dist_Central_p               -10.7517      6.482     -1.659      0.100     -23.584       2.081\n",
      "years                         -0.2303      0.082     -2.795      0.006      -0.393      -0.067\n",
      "Use_Res                        2.8955      0.808      3.585      0.000       1.297       4.494\n",
      "Use_Res_Agric                  2.8808      1.032      2.791      0.006       0.837       4.925\n",
      "Use_Comm                       3.9271      1.634      2.404      0.018       0.693       7.161\n",
      "Use_Agric                      2.4987      0.825      3.028      0.003       0.865       4.133\n",
      "Use_Inst                            0          0        nan        nan           0           0\n",
      "==============================================================================\n",
      "Omnibus:                       12.334   Durbin-Watson:                   2.187\n",
      "Prob(Omnibus):                  0.002   Jarque-Bera (JB):               16.432\n",
      "Skew:                          -0.489   Prob(JB):                     0.000270\n",
      "Kurtosis:                       4.274   Cond. No.                     1.04e+16\n",
      "==============================================================================\n",
      "\n",
      "Notes:\n",
      "[1] Standard Errors assume that the covariance matrix of the errors is correctly specified.\n",
      "[2] The smallest eigenvalue is 1.9e-27. This might indicate that there are\n",
      "strong multicollinearity problems or that the design matrix is singular.\n"
     ]
    }
   ],
   "source": [
    "print (result.summary())"
   ]
  },
  {
   "cell_type": "code",
   "execution_count": 18,
   "id": "906bb2cb",
   "metadata": {},
   "outputs": [],
   "source": [
    "pred=result.predict(X_test)"
   ]
  },
  {
   "cell_type": "code",
   "execution_count": 19,
   "id": "234d13a2",
   "metadata": {},
   "outputs": [
    {
     "data": {
      "text/plain": [
       "133    15.499167\n",
       "136    16.321601\n",
       "168    15.506262\n",
       "54     15.683632\n",
       "56     12.956222\n",
       "144    13.533816\n",
       "7      16.545673\n",
       "96     15.316139\n",
       "121    16.437879\n",
       "97     17.441183\n",
       "141    16.257793\n",
       "5      16.270478\n",
       "83     15.706511\n",
       "109    15.496578\n",
       "55     15.959885\n",
       "18     16.092254\n",
       "61     16.097114\n",
       "dtype: float64"
      ]
     },
     "execution_count": 19,
     "metadata": {},
     "output_type": "execute_result"
    }
   ],
   "source": [
    "pred"
   ]
  },
  {
   "cell_type": "code",
   "execution_count": 20,
   "id": "76418a97",
   "metadata": {},
   "outputs": [
    {
     "data": {
      "text/plain": [
       "133    15.761421\n",
       "136    17.504390\n",
       "168    16.811243\n",
       "54     14.914123\n",
       "56     16.588099\n",
       "144    15.735370\n",
       "7      17.034386\n",
       "96     14.914123\n",
       "121    17.034386\n",
       "97     18.740588\n",
       "141    17.216708\n",
       "5      16.523561\n",
       "83     15.424948\n",
       "109    16.811243\n",
       "55     15.319588\n",
       "18     15.424948\n",
       "61     15.830414\n",
       "Name: Value, dtype: float64"
      ]
     },
     "execution_count": 20,
     "metadata": {},
     "output_type": "execute_result"
    }
   ],
   "source": [
    "y_test"
   ]
  },
  {
   "cell_type": "code",
   "execution_count": 35,
   "id": "e143a7cc",
   "metadata": {},
   "outputs": [
    {
     "name": "stdout",
     "output_type": "stream",
     "text": [
      "Mean Squared Error: 1.6448582032252526\n",
      "Root Mean Squared Error: 1.2825202545087748\n"
     ]
    }
   ],
   "source": [
    "#Evaluating Model Performance\n",
    "from sklearn import metrics\n",
    "print('Mean Squared Error:', metrics.mean_squared_error(y_test, pred))\n",
    "print('Root Mean Squared Error:', np.sqrt(metrics.mean_squared_error(y_test, pred)))"
   ]
  },
  {
   "cell_type": "code",
   "execution_count": 21,
   "id": "08484c08",
   "metadata": {},
   "outputs": [],
   "source": [
    "#Integrating neighborhood into the model\n",
    "df.to_excel(r'C:\\Users\\WINNIE OKUTU\\Downloads\\Wakiso_data\\Kakiri\\Kakiri_clean.xlsx',index=False)"
   ]
  },
  {
   "cell_type": "code",
   "execution_count": 3,
   "id": "50dc0597",
   "metadata": {},
   "outputs": [
    {
     "data": {
      "text/html": [
       "<div>\n",
       "<style scoped>\n",
       "    .dataframe tbody tr th:only-of-type {\n",
       "        vertical-align: middle;\n",
       "    }\n",
       "\n",
       "    .dataframe tbody tr th {\n",
       "        vertical-align: top;\n",
       "    }\n",
       "\n",
       "    .dataframe thead th {\n",
       "        text-align: right;\n",
       "    }\n",
       "</style>\n",
       "<table border=\"1\" class=\"dataframe\">\n",
       "  <thead>\n",
       "    <tr style=\"text-align: right;\">\n",
       "      <th></th>\n",
       "      <th>Latitude</th>\n",
       "      <th>Longitude</th>\n",
       "      <th>Acreage</th>\n",
       "      <th>Value</th>\n",
       "      <th>dist_Nampunge_TC</th>\n",
       "      <th>dist_Lugombe_TC</th>\n",
       "      <th>dist_Bulonda_TC</th>\n",
       "      <th>dist_Lugeye_TC</th>\n",
       "      <th>dist_Kakiri_TC</th>\n",
       "      <th>dist_Bukalango_TC</th>\n",
       "      <th>dist_Kaliti_TC</th>\n",
       "      <th>dist_Bulondo_TC</th>\n",
       "      <th>dist_Luwunga_TC</th>\n",
       "      <th>dist_Nonve_TC</th>\n",
       "      <th>dist_Kagoge_TC</th>\n",
       "      <th>...</th>\n",
       "      <th>dist_StLwanga_Int</th>\n",
       "      <th>dist_SpringsPri_sch</th>\n",
       "      <th>dist_WakisoMoslem_sch</th>\n",
       "      <th>dist_EmiratesCollege_sch</th>\n",
       "      <th>dist_SentemaCOU_sch</th>\n",
       "      <th>dist_KabageziPri_sch</th>\n",
       "      <th>dist_Central_p</th>\n",
       "      <th>years</th>\n",
       "      <th>Use_Agric</th>\n",
       "      <th>Use_Comm</th>\n",
       "      <th>Use_Inst</th>\n",
       "      <th>Use_Res</th>\n",
       "      <th>Use_Res_Agric</th>\n",
       "      <th>neighborhood</th>\n",
       "      <th>buffer_region</th>\n",
       "    </tr>\n",
       "  </thead>\n",
       "  <tbody>\n",
       "    <tr>\n",
       "      <th>0</th>\n",
       "      <td>0.424860</td>\n",
       "      <td>32.386504</td>\n",
       "      <td>1.000</td>\n",
       "      <td>16.118096</td>\n",
       "      <td>8.378913</td>\n",
       "      <td>4.923523</td>\n",
       "      <td>2.398967</td>\n",
       "      <td>2.583069</td>\n",
       "      <td>0.850589</td>\n",
       "      <td>2.892303</td>\n",
       "      <td>3.485917</td>\n",
       "      <td>5.907732</td>\n",
       "      <td>5.172260</td>\n",
       "      <td>3.526079</td>\n",
       "      <td>5.688457</td>\n",
       "      <td>...</td>\n",
       "      <td>1.729582</td>\n",
       "      <td>1.552512</td>\n",
       "      <td>10.718425</td>\n",
       "      <td>5.766564</td>\n",
       "      <td>5.625934</td>\n",
       "      <td>4.413121</td>\n",
       "      <td>2.557370</td>\n",
       "      <td>5.151588</td>\n",
       "      <td>1</td>\n",
       "      <td>0</td>\n",
       "      <td>0</td>\n",
       "      <td>0</td>\n",
       "      <td>0</td>\n",
       "      <td>#7</td>\n",
       "      <td>1</td>\n",
       "    </tr>\n",
       "    <tr>\n",
       "      <th>1</th>\n",
       "      <td>0.428955</td>\n",
       "      <td>32.385940</td>\n",
       "      <td>1.000</td>\n",
       "      <td>16.811243</td>\n",
       "      <td>8.022415</td>\n",
       "      <td>4.628445</td>\n",
       "      <td>2.199622</td>\n",
       "      <td>2.225261</td>\n",
       "      <td>1.258853</td>\n",
       "      <td>3.071543</td>\n",
       "      <td>3.454463</td>\n",
       "      <td>5.765995</td>\n",
       "      <td>5.512463</td>\n",
       "      <td>3.854176</td>\n",
       "      <td>6.094874</td>\n",
       "      <td>...</td>\n",
       "      <td>1.725181</td>\n",
       "      <td>1.481771</td>\n",
       "      <td>10.912302</td>\n",
       "      <td>5.994838</td>\n",
       "      <td>6.007340</td>\n",
       "      <td>4.812985</td>\n",
       "      <td>2.771166</td>\n",
       "      <td>4.089280</td>\n",
       "      <td>1</td>\n",
       "      <td>0</td>\n",
       "      <td>0</td>\n",
       "      <td>0</td>\n",
       "      <td>0</td>\n",
       "      <td>#7</td>\n",
       "      <td>1</td>\n",
       "    </tr>\n",
       "    <tr>\n",
       "      <th>2</th>\n",
       "      <td>0.423859</td>\n",
       "      <td>32.384393</td>\n",
       "      <td>0.101</td>\n",
       "      <td>15.201805</td>\n",
       "      <td>8.291729</td>\n",
       "      <td>4.797245</td>\n",
       "      <td>2.234239</td>\n",
       "      <td>2.793678</td>\n",
       "      <td>0.954167</td>\n",
       "      <td>3.105442</td>\n",
       "      <td>3.742236</td>\n",
       "      <td>6.167134</td>\n",
       "      <td>5.292308</td>\n",
       "      <td>3.294657</td>\n",
       "      <td>5.743558</td>\n",
       "      <td>...</td>\n",
       "      <td>1.986411</td>\n",
       "      <td>1.812226</td>\n",
       "      <td>10.914866</td>\n",
       "      <td>5.952040</td>\n",
       "      <td>5.709005</td>\n",
       "      <td>4.224591</td>\n",
       "      <td>2.759313</td>\n",
       "      <td>5.148850</td>\n",
       "      <td>0</td>\n",
       "      <td>0</td>\n",
       "      <td>0</td>\n",
       "      <td>1</td>\n",
       "      <td>0</td>\n",
       "      <td>#7</td>\n",
       "      <td>1</td>\n",
       "    </tr>\n",
       "    <tr>\n",
       "      <th>3</th>\n",
       "      <td>0.429590</td>\n",
       "      <td>32.385404</td>\n",
       "      <td>0.091</td>\n",
       "      <td>16.523561</td>\n",
       "      <td>7.931046</td>\n",
       "      <td>4.541679</td>\n",
       "      <td>2.126682</td>\n",
       "      <td>2.202452</td>\n",
       "      <td>1.349426</td>\n",
       "      <td>3.151309</td>\n",
       "      <td>3.504581</td>\n",
       "      <td>5.792946</td>\n",
       "      <td>5.603742</td>\n",
       "      <td>3.880262</td>\n",
       "      <td>6.186457</td>\n",
       "      <td>...</td>\n",
       "      <td>1.785248</td>\n",
       "      <td>1.532909</td>\n",
       "      <td>10.991098</td>\n",
       "      <td>6.078016</td>\n",
       "      <td>6.099460</td>\n",
       "      <td>4.859512</td>\n",
       "      <td>2.854680</td>\n",
       "      <td>3.021497</td>\n",
       "      <td>0</td>\n",
       "      <td>0</td>\n",
       "      <td>0</td>\n",
       "      <td>1</td>\n",
       "      <td>0</td>\n",
       "      <td>#7</td>\n",
       "      <td>1</td>\n",
       "    </tr>\n",
       "    <tr>\n",
       "      <th>4</th>\n",
       "      <td>0.422597</td>\n",
       "      <td>32.385754</td>\n",
       "      <td>0.116</td>\n",
       "      <td>16.118096</td>\n",
       "      <td>8.497439</td>\n",
       "      <td>5.002359</td>\n",
       "      <td>2.434120</td>\n",
       "      <td>2.843950</td>\n",
       "      <td>0.751153</td>\n",
       "      <td>2.937731</td>\n",
       "      <td>3.640110</td>\n",
       "      <td>6.101796</td>\n",
       "      <td>5.087688</td>\n",
       "      <td>3.280043</td>\n",
       "      <td>5.539916</td>\n",
       "      <td>...</td>\n",
       "      <td>1.891441</td>\n",
       "      <td>1.745171</td>\n",
       "      <td>10.732427</td>\n",
       "      <td>5.764881</td>\n",
       "      <td>5.503111</td>\n",
       "      <td>4.150073</td>\n",
       "      <td>2.584123</td>\n",
       "      <td>3.169343</td>\n",
       "      <td>0</td>\n",
       "      <td>0</td>\n",
       "      <td>0</td>\n",
       "      <td>1</td>\n",
       "      <td>0</td>\n",
       "      <td>#7</td>\n",
       "      <td>1</td>\n",
       "    </tr>\n",
       "  </tbody>\n",
       "</table>\n",
       "<p>5 rows × 38 columns</p>\n",
       "</div>"
      ],
      "text/plain": [
       "   Latitude  Longitude  Acreage      Value  dist_Nampunge_TC  dist_Lugombe_TC  \\\n",
       "0  0.424860  32.386504    1.000  16.118096          8.378913         4.923523   \n",
       "1  0.428955  32.385940    1.000  16.811243          8.022415         4.628445   \n",
       "2  0.423859  32.384393    0.101  15.201805          8.291729         4.797245   \n",
       "3  0.429590  32.385404    0.091  16.523561          7.931046         4.541679   \n",
       "4  0.422597  32.385754    0.116  16.118096          8.497439         5.002359   \n",
       "\n",
       "   dist_Bulonda_TC  dist_Lugeye_TC  dist_Kakiri_TC  dist_Bukalango_TC  \\\n",
       "0         2.398967        2.583069        0.850589           2.892303   \n",
       "1         2.199622        2.225261        1.258853           3.071543   \n",
       "2         2.234239        2.793678        0.954167           3.105442   \n",
       "3         2.126682        2.202452        1.349426           3.151309   \n",
       "4         2.434120        2.843950        0.751153           2.937731   \n",
       "\n",
       "   dist_Kaliti_TC  dist_Bulondo_TC  dist_Luwunga_TC  dist_Nonve_TC  \\\n",
       "0        3.485917         5.907732         5.172260       3.526079   \n",
       "1        3.454463         5.765995         5.512463       3.854176   \n",
       "2        3.742236         6.167134         5.292308       3.294657   \n",
       "3        3.504581         5.792946         5.603742       3.880262   \n",
       "4        3.640110         6.101796         5.087688       3.280043   \n",
       "\n",
       "   dist_Kagoge_TC  ...  dist_StLwanga_Int  dist_SpringsPri_sch  \\\n",
       "0        5.688457  ...           1.729582             1.552512   \n",
       "1        6.094874  ...           1.725181             1.481771   \n",
       "2        5.743558  ...           1.986411             1.812226   \n",
       "3        6.186457  ...           1.785248             1.532909   \n",
       "4        5.539916  ...           1.891441             1.745171   \n",
       "\n",
       "   dist_WakisoMoslem_sch  dist_EmiratesCollege_sch  dist_SentemaCOU_sch  \\\n",
       "0              10.718425                  5.766564             5.625934   \n",
       "1              10.912302                  5.994838             6.007340   \n",
       "2              10.914866                  5.952040             5.709005   \n",
       "3              10.991098                  6.078016             6.099460   \n",
       "4              10.732427                  5.764881             5.503111   \n",
       "\n",
       "   dist_KabageziPri_sch  dist_Central_p     years  Use_Agric  Use_Comm  \\\n",
       "0              4.413121        2.557370  5.151588          1         0   \n",
       "1              4.812985        2.771166  4.089280          1         0   \n",
       "2              4.224591        2.759313  5.148850          0         0   \n",
       "3              4.859512        2.854680  3.021497          0         0   \n",
       "4              4.150073        2.584123  3.169343          0         0   \n",
       "\n",
       "   Use_Inst  Use_Res  Use_Res_Agric  neighborhood  buffer_region  \n",
       "0         0        0              0            #7              1  \n",
       "1         0        0              0            #7              1  \n",
       "2         0        1              0            #7              1  \n",
       "3         0        1              0            #7              1  \n",
       "4         0        1              0            #7              1  \n",
       "\n",
       "[5 rows x 38 columns]"
      ]
     },
     "execution_count": 3,
     "metadata": {},
     "output_type": "execute_result"
    }
   ],
   "source": [
    "df=pd.read_excel('Kakiri_clean.xlsx')\n",
    "df.head()"
   ]
  },
  {
   "cell_type": "code",
   "execution_count": 4,
   "id": "1dbcadfb",
   "metadata": {},
   "outputs": [
    {
     "name": "stdout",
     "output_type": "stream",
     "text": [
      "Training data is (153, 38)\n",
      "Training Target is (153,)\n",
      "Test data is (17, 38)\n",
      "Test target is (17,)\n"
     ]
    }
   ],
   "source": [
    "#Splitting into train and test sets (dont forget to seed)\n",
    "#Standard imports\n",
    "from sklearn.model_selection import train_test_split\n",
    "\n",
    "#splitting into train and test sets\n",
    "X_train, X_test, y_train, y_test= train_test_split(df, df.Value,\n",
    "                                                  test_size=0.1,\n",
    "                                                  random_state=0)\n",
    "\n",
    "#Print the different sets that have been split\n",
    "print('Training data is',X_train.shape)\n",
    "print(\"Training Target is\",y_train.shape)\n",
    "print('Test data is',X_test.shape)\n",
    "print('Test target is',y_test.shape)"
   ]
  },
  {
   "cell_type": "code",
   "execution_count": 33,
   "id": "59e7ef46",
   "metadata": {},
   "outputs": [],
   "source": [
    "#Fitting the model using the statsmodel library from python; this is because it integrates the element of spatial heterogeneity.\n",
    "variable_names = [ \n",
    "    'Acreage',  \n",
    "    'dist_Nampunge_TC', \n",
    "    'dist_Lugombe_TC', \n",
    "    'dist_Bulonda_TC',\n",
    "    'dist_Lugeye_TC',\n",
    "    'dist_Kakiri_TC', \n",
    "    'dist_Bukalango_TC', \n",
    "    'dist_Kaliti_TC',\n",
    "    'dist_Bulondo_TC', \n",
    "    'dist_Luwunga_TC', \n",
    "    'dist_Nonve_TC',\n",
    "    'dist_Kagoge_TC', \n",
    "    'dist_Lukwanga_TC',\n",
    "    'dist_Sentema_TC', \n",
    "    'dist_Kawalira_TC', \n",
    "    'dist_Kakiri_Police_Station',\n",
    "    #'dist_Advance_Microfinance', \n",
    "    'dist_NampungeComm_HS', \n",
    "    'dist_Kikandwa_CommSec_sch',\n",
    "    'dist_KakiriCol_sch',\n",
    "    'dist_StLwanga_Int', \n",
    "    'dist_SpringsPri_sch', \n",
    "    'dist_WakisoMoslem_sch',\n",
    "    'dist_EmiratesCollege_sch',\n",
    "    'dist_SentemaCOU_sch',\n",
    "    'dist_KabageziPri_sch', \n",
    "    'dist_Central_p', \n",
    "    'years',\n",
    "    'Use_Res',\n",
    "    'Use_Res_Agric',\n",
    "    'Use_Comm',\n",
    "    'Use_Agric',\n",
    "    'Use_Inst',\n",
    "    'buffer_region'\n",
    "]"
   ]
  },
  {
   "cell_type": "code",
   "execution_count": 34,
   "id": "848944ba",
   "metadata": {},
   "outputs": [],
   "source": [
    "f = 'Value ~ ' + ' + '.join(variable_names) + ' + neighborhood - 1'"
   ]
  },
  {
   "cell_type": "code",
   "execution_count": 35,
   "id": "d862643c",
   "metadata": {},
   "outputs": [
    {
     "name": "stdout",
     "output_type": "stream",
     "text": [
      "                            OLS Regression Results                            \n",
      "==============================================================================\n",
      "Dep. Variable:                  Value   R-squared:                       0.535\n",
      "Model:                            OLS   Adj. R-squared:                  0.406\n",
      "Method:                 Least Squares   F-statistic:                     4.151\n",
      "Date:                Sun, 10 Oct 2021   Prob (F-statistic):           5.66e-09\n",
      "Time:                        22:07:32   Log-Likelihood:                -175.33\n",
      "No. Observations:                 153   AIC:                             418.7\n",
      "Df Residuals:                     119   BIC:                             521.7\n",
      "Df Model:                          33                                         \n",
      "Covariance Type:            nonrobust                                         \n",
      "==============================================================================================\n",
      "                                 coef    std err          t      P>|t|      [0.025      0.975]\n",
      "----------------------------------------------------------------------------------------------\n",
      "neighborhood[#7]               7.2924      2.170      3.360      0.001       2.995      11.590\n",
      "neighborhood[#8]               7.9298      2.262      3.505      0.001       3.450      12.409\n",
      "neighborhood[#9]               9.4040      2.014      4.670      0.000       5.417      13.391\n",
      "Acreage                        0.1528      0.022      6.943      0.000       0.109       0.196\n",
      "dist_Nampunge_TC               0.5547      0.520      1.067      0.288      -0.475       1.584\n",
      "dist_Lugombe_TC                0.4483      0.614      0.730      0.467      -0.767       1.664\n",
      "dist_Bulonda_TC                0.0439      0.670      0.065      0.948      -1.284       1.371\n",
      "dist_Lugeye_TC                 0.4162      0.413      1.008      0.315      -0.401       1.233\n",
      "dist_Kakiri_TC                 5.0482      6.151      0.821      0.413      -7.132      17.228\n",
      "dist_Bukalango_TC              5.3937      5.835      0.924      0.357      -6.160      16.947\n",
      "dist_Kaliti_TC                 0.1289      0.998      0.129      0.897      -1.847       2.104\n",
      "dist_Bulondo_TC                0.1929      0.684      0.282      0.778      -1.162       1.547\n",
      "dist_Luwunga_TC               -1.1216      2.123     -0.528      0.598      -5.324       3.081\n",
      "dist_Nonve_TC                 -0.5854      0.857     -0.683      0.496      -2.282       1.111\n",
      "dist_Kagoge_TC                -2.3163      2.114     -1.096      0.275      -6.502       1.869\n",
      "dist_Lukwanga_TC               2.6337      1.135      2.321      0.022       0.387       4.880\n",
      "dist_Sentema_TC               -2.0968      1.291     -1.624      0.107      -4.653       0.460\n",
      "dist_Kawalira_TC              -0.3253      0.381     -0.853      0.395      -1.081       0.430\n",
      "dist_Kakiri_Police_Station    -3.9298      3.471     -1.132      0.260     -10.803       2.943\n",
      "dist_NampungeComm_HS          -0.5226      0.534     -0.979      0.329      -1.579       0.534\n",
      "dist_Kikandwa_CommSec_sch     -0.4971      0.855     -0.581      0.562      -2.190       1.196\n",
      "dist_KakiriCol_sch             0.0657      3.903      0.017      0.987      -7.663       7.794\n",
      "dist_StLwanga_Int             -2.7335      4.736     -0.577      0.565     -12.110       6.643\n",
      "dist_SpringsPri_sch            1.6409      3.619      0.453      0.651      -5.526       8.807\n",
      "dist_WakisoMoslem_sch         -1.1436      0.739     -1.548      0.124      -2.606       0.319\n",
      "dist_EmiratesCollege_sch       0.5520      1.032      0.535      0.594      -1.491       2.595\n",
      "dist_SentemaCOU_sch            3.2687      3.265      1.001      0.319      -3.196       9.734\n",
      "dist_KabageziPri_sch           1.0489      0.889      1.180      0.240      -0.711       2.808\n",
      "dist_Central_p                -5.9403      6.001     -0.990      0.324     -17.822       5.942\n",
      "years                         -0.2431      0.083     -2.931      0.004      -0.407      -0.079\n",
      "Use_Res                        6.1947      1.665      3.721      0.000       2.898       9.491\n",
      "Use_Res_Agric                  6.0895      1.811      3.362      0.001       2.503       9.676\n",
      "Use_Comm                       6.5515      2.079      3.151      0.002       2.434      10.669\n",
      "Use_Agric                      5.7905      1.678      3.451      0.001       2.468       9.113\n",
      "Use_Inst                            0          0        nan        nan           0           0\n",
      "buffer_region                  0.0134      0.091      0.148      0.883      -0.166       0.193\n",
      "==============================================================================\n",
      "Omnibus:                       11.681   Durbin-Watson:                   2.096\n",
      "Prob(Omnibus):                  0.003   Jarque-Bera (JB):               15.992\n",
      "Skew:                          -0.452   Prob(JB):                     0.000337\n",
      "Kurtosis:                       4.301   Cond. No.                     1.26e+16\n",
      "==============================================================================\n",
      "\n",
      "Notes:\n",
      "[1] Standard Errors assume that the covariance matrix of the errors is correctly specified.\n",
      "[2] The smallest eigenvalue is 1.27e-27. This might indicate that there are\n",
      "strong multicollinearity problems or that the design matrix is singular.\n"
     ]
    }
   ],
   "source": [
    "model2 = smf.ols(f, data=X_train).fit()\n",
    "print(model2.summary())"
   ]
  },
  {
   "cell_type": "code",
   "execution_count": 36,
   "id": "cc504f13",
   "metadata": {},
   "outputs": [],
   "source": [
    "pred2=model2.predict(X_test)"
   ]
  },
  {
   "cell_type": "code",
   "execution_count": 37,
   "id": "61391c74",
   "metadata": {},
   "outputs": [
    {
     "data": {
      "text/plain": [
       "133    15.888418\n",
       "136    16.333931\n",
       "168    15.975981\n",
       "54     14.628721\n",
       "56     15.977956\n",
       "144    10.225243\n",
       "7      16.676645\n",
       "96     15.091781\n",
       "121    16.452616\n",
       "97     17.301700\n",
       "141    16.361972\n",
       "5      16.391726\n",
       "83     15.613161\n",
       "109    15.405882\n",
       "55     15.182639\n",
       "18     16.247729\n",
       "61     16.029660\n",
       "dtype: float64"
      ]
     },
     "execution_count": 37,
     "metadata": {},
     "output_type": "execute_result"
    }
   ],
   "source": [
    "pred2"
   ]
  },
  {
   "cell_type": "code",
   "execution_count": 38,
   "id": "e549e59b",
   "metadata": {},
   "outputs": [
    {
     "data": {
      "text/plain": [
       "133    15.761421\n",
       "136    17.504390\n",
       "168    16.811243\n",
       "54     14.914123\n",
       "56     16.588099\n",
       "144    15.735370\n",
       "7      17.034386\n",
       "96     14.914123\n",
       "121    17.034386\n",
       "97     18.740588\n",
       "141    17.216708\n",
       "5      16.523561\n",
       "83     15.424948\n",
       "109    16.811243\n",
       "55     15.319588\n",
       "18     15.424948\n",
       "61     15.830414\n",
       "Name: Value, dtype: float64"
      ]
     },
     "execution_count": 38,
     "metadata": {},
     "output_type": "execute_result"
    }
   ],
   "source": [
    "y_test"
   ]
  },
  {
   "cell_type": "code",
   "execution_count": 39,
   "id": "d5bf8d66",
   "metadata": {},
   "outputs": [
    {
     "name": "stdout",
     "output_type": "stream",
     "text": [
      "Mean Squared Error: 2.2918372039438335\n",
      "Root Mean Squared Error: 1.51388150260971\n"
     ]
    }
   ],
   "source": [
    "#Evaluating Model Performance\n",
    "from sklearn import metrics\n",
    "print('Mean Squared Error:', metrics.mean_squared_error(y_test, pred2))\n",
    "print('Root Mean Squared Error:', np.sqrt(metrics.mean_squared_error(y_test, pred2)))"
   ]
  },
  {
   "cell_type": "code",
   "execution_count": 25,
   "id": "d4faa9f5",
   "metadata": {},
   "outputs": [],
   "source": [
    "import pickle\n",
    "with open('model2.pkl', 'wb') as fid:\n",
    "    pickle.dump(model2, fid,2)"
   ]
  }
 ],
 "metadata": {
  "kernelspec": {
   "display_name": "Python 3",
   "language": "python",
   "name": "python3"
  },
  "language_info": {
   "codemirror_mode": {
    "name": "ipython",
    "version": 3
   },
   "file_extension": ".py",
   "mimetype": "text/x-python",
   "name": "python",
   "nbconvert_exporter": "python",
   "pygments_lexer": "ipython3",
   "version": "3.8.8"
  }
 },
 "nbformat": 4,
 "nbformat_minor": 5
}
